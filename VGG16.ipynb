{
  "nbformat": 4,
  "nbformat_minor": 0,
  "metadata": {
    "colab": {
      "provenance": [],
      "include_colab_link": true
    },
    "kernelspec": {
      "name": "python3",
      "display_name": "Python 3"
    },
    "language_info": {
      "name": "python"
    },
    "gpuClass": "standard",
    "accelerator": "GPU"
  },
  "cells": [
    {
      "cell_type": "markdown",
      "metadata": {
        "id": "view-in-github",
        "colab_type": "text"
      },
      "source": [
        "<a href=\"https://colab.research.google.com/github/MarcoRalli/SafeCarSystem/blob/main/VGG16.ipynb\" target=\"_parent\"><img src=\"https://colab.research.google.com/assets/colab-badge.svg\" alt=\"Open In Colab\"/></a>"
      ]
    },
    {
      "cell_type": "markdown",
      "source": [
        "# Import libraries"
      ],
      "metadata": {
        "id": "QfG2E8lsTURT"
      }
    },
    {
      "cell_type": "code",
      "source": [
        "!pip install tensorflow==2.9.0\n"
      ],
      "metadata": {
        "colab": {
          "base_uri": "https://localhost:8080/"
        },
        "id": "sZvZPx5Znt8t",
        "outputId": "08044358-7d04-4129-bded-4e1e9ae60ec9"
      },
      "execution_count": null,
      "outputs": [
        {
          "output_type": "stream",
          "name": "stdout",
          "text": [
            "Looking in indexes: https://pypi.org/simple, https://us-python.pkg.dev/colab-wheels/public/simple/\n",
            "Collecting tensorflow==2.9.0\n",
            "  Downloading tensorflow-2.9.0-cp38-cp38-manylinux_2_17_x86_64.manylinux2014_x86_64.whl (511.7 MB)\n",
            "\u001b[2K     \u001b[90m━━━━━━━━━━━━━━━━━━━━━━━━━━━━━━━━━━━━━━━\u001b[0m \u001b[32m511.7/511.7 MB\u001b[0m \u001b[31m3.0 MB/s\u001b[0m eta \u001b[36m0:00:00\u001b[0m\n",
            "\u001b[?25hCollecting keras-preprocessing>=1.1.1\n",
            "  Downloading Keras_Preprocessing-1.1.2-py2.py3-none-any.whl (42 kB)\n",
            "\u001b[2K     \u001b[90m━━━━━━━━━━━━━━━━━━━━━━━━━━━━━━━━━━━━━━━━\u001b[0m \u001b[32m42.6/42.6 KB\u001b[0m \u001b[31m3.8 MB/s\u001b[0m eta \u001b[36m0:00:00\u001b[0m\n",
            "\u001b[?25hRequirement already satisfied: numpy>=1.20 in /usr/local/lib/python3.8/dist-packages (from tensorflow==2.9.0) (1.21.6)\n",
            "Requirement already satisfied: google-pasta>=0.1.1 in /usr/local/lib/python3.8/dist-packages (from tensorflow==2.9.0) (0.2.0)\n",
            "Requirement already satisfied: grpcio<2.0,>=1.24.3 in /usr/local/lib/python3.8/dist-packages (from tensorflow==2.9.0) (1.51.1)\n",
            "Requirement already satisfied: setuptools in /usr/local/lib/python3.8/dist-packages (from tensorflow==2.9.0) (57.4.0)\n",
            "Requirement already satisfied: packaging in /usr/local/lib/python3.8/dist-packages (from tensorflow==2.9.0) (23.0)\n",
            "Collecting tensorflow-estimator<2.10.0,>=2.9.0rc0\n",
            "  Downloading tensorflow_estimator-2.9.0-py2.py3-none-any.whl (438 kB)\n",
            "\u001b[2K     \u001b[90m━━━━━━━━━━━━━━━━━━━━━━━━━━━━━━━━━━━━━━\u001b[0m \u001b[32m438.7/438.7 KB\u001b[0m \u001b[31m37.8 MB/s\u001b[0m eta \u001b[36m0:00:00\u001b[0m\n",
            "\u001b[?25hRequirement already satisfied: wrapt>=1.11.0 in /usr/local/lib/python3.8/dist-packages (from tensorflow==2.9.0) (1.14.1)\n",
            "Requirement already satisfied: gast<=0.4.0,>=0.2.1 in /usr/local/lib/python3.8/dist-packages (from tensorflow==2.9.0) (0.4.0)\n",
            "Requirement already satisfied: six>=1.12.0 in /usr/local/lib/python3.8/dist-packages (from tensorflow==2.9.0) (1.15.0)\n",
            "Requirement already satisfied: typing-extensions>=3.6.6 in /usr/local/lib/python3.8/dist-packages (from tensorflow==2.9.0) (4.4.0)\n",
            "Requirement already satisfied: opt-einsum>=2.3.2 in /usr/local/lib/python3.8/dist-packages (from tensorflow==2.9.0) (3.3.0)\n",
            "Collecting keras<2.10.0,>=2.9.0rc0\n",
            "  Downloading keras-2.9.0-py2.py3-none-any.whl (1.6 MB)\n",
            "\u001b[2K     \u001b[90m━━━━━━━━━━━━━━━━━━━━━━━━━━━━━━━━━━━━━━━━\u001b[0m \u001b[32m1.6/1.6 MB\u001b[0m \u001b[31m63.8 MB/s\u001b[0m eta \u001b[36m0:00:00\u001b[0m\n",
            "\u001b[?25hRequirement already satisfied: protobuf>=3.9.2 in /usr/local/lib/python3.8/dist-packages (from tensorflow==2.9.0) (3.19.6)\n",
            "Collecting tensorboard<2.10,>=2.9\n",
            "  Downloading tensorboard-2.9.1-py3-none-any.whl (5.8 MB)\n",
            "\u001b[2K     \u001b[90m━━━━━━━━━━━━━━━━━━━━━━━━━━━━━━━━━━━━━━━━\u001b[0m \u001b[32m5.8/5.8 MB\u001b[0m \u001b[31m98.7 MB/s\u001b[0m eta \u001b[36m0:00:00\u001b[0m\n",
            "\u001b[?25hRequirement already satisfied: libclang>=13.0.0 in /usr/local/lib/python3.8/dist-packages (from tensorflow==2.9.0) (15.0.6.1)\n",
            "Requirement already satisfied: tensorflow-io-gcs-filesystem>=0.23.1 in /usr/local/lib/python3.8/dist-packages (from tensorflow==2.9.0) (0.30.0)\n",
            "Requirement already satisfied: termcolor>=1.1.0 in /usr/local/lib/python3.8/dist-packages (from tensorflow==2.9.0) (2.2.0)\n",
            "Requirement already satisfied: absl-py>=1.0.0 in /usr/local/lib/python3.8/dist-packages (from tensorflow==2.9.0) (1.4.0)\n",
            "Collecting flatbuffers<2,>=1.12\n",
            "  Downloading flatbuffers-1.12-py2.py3-none-any.whl (15 kB)\n",
            "Requirement already satisfied: h5py>=2.9.0 in /usr/local/lib/python3.8/dist-packages (from tensorflow==2.9.0) (3.1.0)\n",
            "Requirement already satisfied: astunparse>=1.6.0 in /usr/local/lib/python3.8/dist-packages (from tensorflow==2.9.0) (1.6.3)\n",
            "Requirement already satisfied: wheel<1.0,>=0.23.0 in /usr/local/lib/python3.8/dist-packages (from astunparse>=1.6.0->tensorflow==2.9.0) (0.38.4)\n",
            "Requirement already satisfied: tensorboard-plugin-wit>=1.6.0 in /usr/local/lib/python3.8/dist-packages (from tensorboard<2.10,>=2.9->tensorflow==2.9.0) (1.8.1)\n",
            "Requirement already satisfied: werkzeug>=1.0.1 in /usr/local/lib/python3.8/dist-packages (from tensorboard<2.10,>=2.9->tensorflow==2.9.0) (1.0.1)\n",
            "Requirement already satisfied: google-auth<3,>=1.6.3 in /usr/local/lib/python3.8/dist-packages (from tensorboard<2.10,>=2.9->tensorflow==2.9.0) (2.16.0)\n",
            "Requirement already satisfied: requests<3,>=2.21.0 in /usr/local/lib/python3.8/dist-packages (from tensorboard<2.10,>=2.9->tensorflow==2.9.0) (2.25.1)\n",
            "Requirement already satisfied: google-auth-oauthlib<0.5,>=0.4.1 in /usr/local/lib/python3.8/dist-packages (from tensorboard<2.10,>=2.9->tensorflow==2.9.0) (0.4.6)\n",
            "Requirement already satisfied: tensorboard-data-server<0.7.0,>=0.6.0 in /usr/local/lib/python3.8/dist-packages (from tensorboard<2.10,>=2.9->tensorflow==2.9.0) (0.6.1)\n",
            "Requirement already satisfied: markdown>=2.6.8 in /usr/local/lib/python3.8/dist-packages (from tensorboard<2.10,>=2.9->tensorflow==2.9.0) (3.4.1)\n",
            "Requirement already satisfied: rsa<5,>=3.1.4 in /usr/local/lib/python3.8/dist-packages (from google-auth<3,>=1.6.3->tensorboard<2.10,>=2.9->tensorflow==2.9.0) (4.9)\n",
            "Requirement already satisfied: cachetools<6.0,>=2.0.0 in /usr/local/lib/python3.8/dist-packages (from google-auth<3,>=1.6.3->tensorboard<2.10,>=2.9->tensorflow==2.9.0) (5.3.0)\n",
            "Requirement already satisfied: pyasn1-modules>=0.2.1 in /usr/local/lib/python3.8/dist-packages (from google-auth<3,>=1.6.3->tensorboard<2.10,>=2.9->tensorflow==2.9.0) (0.2.8)\n",
            "Requirement already satisfied: requests-oauthlib>=0.7.0 in /usr/local/lib/python3.8/dist-packages (from google-auth-oauthlib<0.5,>=0.4.1->tensorboard<2.10,>=2.9->tensorflow==2.9.0) (1.3.1)\n",
            "Requirement already satisfied: importlib-metadata>=4.4 in /usr/local/lib/python3.8/dist-packages (from markdown>=2.6.8->tensorboard<2.10,>=2.9->tensorflow==2.9.0) (6.0.0)\n",
            "Requirement already satisfied: idna<3,>=2.5 in /usr/local/lib/python3.8/dist-packages (from requests<3,>=2.21.0->tensorboard<2.10,>=2.9->tensorflow==2.9.0) (2.10)\n",
            "Requirement already satisfied: chardet<5,>=3.0.2 in /usr/local/lib/python3.8/dist-packages (from requests<3,>=2.21.0->tensorboard<2.10,>=2.9->tensorflow==2.9.0) (4.0.0)\n",
            "Requirement already satisfied: urllib3<1.27,>=1.21.1 in /usr/local/lib/python3.8/dist-packages (from requests<3,>=2.21.0->tensorboard<2.10,>=2.9->tensorflow==2.9.0) (1.24.3)\n",
            "Requirement already satisfied: certifi>=2017.4.17 in /usr/local/lib/python3.8/dist-packages (from requests<3,>=2.21.0->tensorboard<2.10,>=2.9->tensorflow==2.9.0) (2022.12.7)\n",
            "Requirement already satisfied: zipp>=0.5 in /usr/local/lib/python3.8/dist-packages (from importlib-metadata>=4.4->markdown>=2.6.8->tensorboard<2.10,>=2.9->tensorflow==2.9.0) (3.12.1)\n",
            "Requirement already satisfied: pyasn1<0.5.0,>=0.4.6 in /usr/local/lib/python3.8/dist-packages (from pyasn1-modules>=0.2.1->google-auth<3,>=1.6.3->tensorboard<2.10,>=2.9->tensorflow==2.9.0) (0.4.8)\n",
            "Requirement already satisfied: oauthlib>=3.0.0 in /usr/local/lib/python3.8/dist-packages (from requests-oauthlib>=0.7.0->google-auth-oauthlib<0.5,>=0.4.1->tensorboard<2.10,>=2.9->tensorflow==2.9.0) (3.2.2)\n",
            "Installing collected packages: keras, flatbuffers, tensorflow-estimator, keras-preprocessing, tensorboard, tensorflow\n",
            "  Attempting uninstall: keras\n",
            "    Found existing installation: keras 2.11.0\n",
            "    Uninstalling keras-2.11.0:\n",
            "      Successfully uninstalled keras-2.11.0\n",
            "  Attempting uninstall: flatbuffers\n",
            "    Found existing installation: flatbuffers 23.1.21\n",
            "    Uninstalling flatbuffers-23.1.21:\n",
            "      Successfully uninstalled flatbuffers-23.1.21\n",
            "  Attempting uninstall: tensorflow-estimator\n",
            "    Found existing installation: tensorflow-estimator 2.11.0\n",
            "    Uninstalling tensorflow-estimator-2.11.0:\n",
            "      Successfully uninstalled tensorflow-estimator-2.11.0\n",
            "  Attempting uninstall: tensorboard\n",
            "    Found existing installation: tensorboard 2.11.2\n",
            "    Uninstalling tensorboard-2.11.2:\n",
            "      Successfully uninstalled tensorboard-2.11.2\n",
            "  Attempting uninstall: tensorflow\n",
            "    Found existing installation: tensorflow 2.11.0\n",
            "    Uninstalling tensorflow-2.11.0:\n",
            "      Successfully uninstalled tensorflow-2.11.0\n",
            "Successfully installed flatbuffers-1.12 keras-2.9.0 keras-preprocessing-1.1.2 tensorboard-2.9.1 tensorflow-2.9.0 tensorflow-estimator-2.9.0\n"
          ]
        }
      ]
    },
    {
      "cell_type": "code",
      "metadata": {
        "id": "9X75dgpHIxOu"
      },
      "source": [
        "from tensorflow import keras\n",
        "import os\n",
        "import pickle\n",
        "import matplotlib.pyplot as plt\n",
        "import numpy as np\n",
        "from tensorflow.keras import layers, models, optimizers\n",
        "from sklearn import metrics\n",
        "import shutil"
      ],
      "execution_count": null,
      "outputs": []
    },
    {
      "cell_type": "code",
      "metadata": {
        "id": "_Pvgk_tTccRN",
        "colab": {
          "base_uri": "https://localhost:8080/"
        },
        "outputId": "3d6d7cf8-9060-497f-90d5-eb6cb4bd45f6"
      },
      "source": [
        "from google.colab import drive\n",
        "drive.mount('/gdrive')\n",
        "%cd /gdrive\n",
        "%ls\n"
      ],
      "execution_count": null,
      "outputs": [
        {
          "output_type": "stream",
          "name": "stdout",
          "text": [
            "Mounted at /gdrive\n",
            "/gdrive\n",
            "\u001b[0m\u001b[01;34mMyDrive\u001b[0m/  \u001b[01;34mShareddrives\u001b[0m/\n"
          ]
        }
      ]
    },
    {
      "cell_type": "markdown",
      "source": [
        "# Load dataset"
      ],
      "metadata": {
        "id": "rwDqPjYmTcEJ"
      }
    },
    {
      "cell_type": "code",
      "source": [
        "import tensorflow as tf\n",
        "\n",
        "tf.__version__\n"
      ],
      "metadata": {
        "colab": {
          "base_uri": "https://localhost:8080/",
          "height": 35
        },
        "id": "PW8jjjpugq7d",
        "outputId": "9833932a-c051-4269-c038-f57baea81e36"
      },
      "execution_count": null,
      "outputs": [
        {
          "output_type": "execute_result",
          "data": {
            "text/plain": [
              "'2.9.0'"
            ],
            "application/vnd.google.colaboratory.intrinsic+json": {
              "type": "string"
            }
          },
          "metadata": {},
          "execution_count": 4
        }
      ]
    },
    {
      "cell_type": "code",
      "metadata": {
        "id": "gIVQmTZ4PcWE"
      },
      "source": [
        "!unzip -q \"Shareddrives/industrial/data/DatasetNew.zip\" -d \"/content\"\n"
      ],
      "execution_count": null,
      "outputs": []
    },
    {
      "cell_type": "markdown",
      "source": [
        "# Set Parameters"
      ],
      "metadata": {
        "id": "0tfSwXQLTiCZ"
      }
    },
    {
      "cell_type": "code",
      "execution_count": null,
      "metadata": {
        "colab": {
          "base_uri": "https://localhost:8080/"
        },
        "id": "GcTEbTT43_bl",
        "outputId": "253538dd-fa64-41e0-ec7f-cba9b6d39199"
      },
      "outputs": [
        {
          "output_type": "stream",
          "name": "stdout",
          "text": [
            "Found 2684 files belonging to 3 classes.\n",
            "Found 314 files belonging to 3 classes.\n",
            "Found 600 files belonging to 3 classes.\n"
          ]
        }
      ],
      "source": [
        "from tensorflow.keras.utils import image_dataset_from_directory\n",
        "\n",
        "DIR_NAME = '/content/model/CNN_pretrained'\n",
        "TEST_PATH = '/content/Pr.datasetNew/test'\n",
        "TRAIN_PATH = '/content/Pr.datasetNew/train'\n",
        "VAL_PATH = '/content/Pr.datasetNew/validation'\n",
        "IMAGE_HEIGHT = 300\n",
        "IMAGE_WIDTH = 200\n",
        "BATCH_SIZE = 32\n",
        "RANDOM_SEED = 42\n",
        "TEST_SPLIT = 0.10\n",
        "AUTOTUNE = tf.data.AUTOTUNE\n",
        "\n",
        "training_images = tf.keras.preprocessing.image_dataset_from_directory(\n",
        "    TRAIN_PATH, labels='inferred', label_mode='categorical',\n",
        "    class_names=None, color_mode='rgb', batch_size=BATCH_SIZE, image_size=(IMAGE_HEIGHT,\n",
        "    IMAGE_WIDTH), shuffle=True, seed=RANDOM_SEED,\n",
        "    interpolation='bilinear', follow_links=False\n",
        ")\n",
        "\n",
        "val_images = tf.keras.preprocessing.image_dataset_from_directory(\n",
        "    VAL_PATH , labels='inferred', label_mode='categorical',\n",
        "    class_names=None, color_mode='rgb', batch_size=BATCH_SIZE, image_size=(IMAGE_HEIGHT,\n",
        "    IMAGE_WIDTH), shuffle=True, seed=RANDOM_SEED,\n",
        "    interpolation='bilinear', follow_links=False\n",
        ")\n",
        "\n",
        "test_images = tf.keras.preprocessing.image_dataset_from_directory(\n",
        "    TEST_PATH , labels='inferred', label_mode='categorical',\n",
        "    class_names=None, color_mode='rgb', batch_size=BATCH_SIZE, image_size=(IMAGE_HEIGHT,\n",
        "    IMAGE_WIDTH), shuffle=False,interpolation='bilinear', follow_links=False\n",
        ")\n"
      ]
    },
    {
      "cell_type": "markdown",
      "source": [
        "# Build **standard** model\n",
        "Starting from downloading the convolutional base of the VGG16 neural network"
      ],
      "metadata": {
        "id": "CyuumCn4UDZB"
      }
    },
    {
      "cell_type": "code",
      "metadata": {
        "id": "38S8c8e7IxO5"
      },
      "source": [
        "from tensorflow.keras.applications import VGG16\n",
        "\n",
        "conv_base = keras.applications.vgg16.VGG16(\n",
        "    weights=\"imagenet\",\n",
        "    include_top=False,\n",
        "    input_shape=(300, 200, 3),\n",
        "    classes=3)"
      ],
      "execution_count": null,
      "outputs": []
    },
    {
      "cell_type": "code",
      "source": [
        "conv_base.summary()"
      ],
      "metadata": {
        "colab": {
          "base_uri": "https://localhost:8080/"
        },
        "id": "VH5ddgZOqFFC",
        "outputId": "4f8de9fe-9da9-4dac-e17f-b2a1c57a1ce3"
      },
      "execution_count": null,
      "outputs": [
        {
          "output_type": "stream",
          "name": "stdout",
          "text": [
            "Model: \"vgg16\"\n",
            "_________________________________________________________________\n",
            " Layer (type)                Output Shape              Param #   \n",
            "=================================================================\n",
            " input_3 (InputLayer)        [(None, 300, 200, 3)]     0         \n",
            "                                                                 \n",
            " block1_conv1 (Conv2D)       (None, 300, 200, 64)      1792      \n",
            "                                                                 \n",
            " block1_conv2 (Conv2D)       (None, 300, 200, 64)      36928     \n",
            "                                                                 \n",
            " block1_pool (MaxPooling2D)  (None, 150, 100, 64)      0         \n",
            "                                                                 \n",
            " block2_conv1 (Conv2D)       (None, 150, 100, 128)     73856     \n",
            "                                                                 \n",
            " block2_conv2 (Conv2D)       (None, 150, 100, 128)     147584    \n",
            "                                                                 \n",
            " block2_pool (MaxPooling2D)  (None, 75, 50, 128)       0         \n",
            "                                                                 \n",
            " block3_conv1 (Conv2D)       (None, 75, 50, 256)       295168    \n",
            "                                                                 \n",
            " block3_conv2 (Conv2D)       (None, 75, 50, 256)       590080    \n",
            "                                                                 \n",
            " block3_conv3 (Conv2D)       (None, 75, 50, 256)       590080    \n",
            "                                                                 \n",
            " block3_pool (MaxPooling2D)  (None, 37, 25, 256)       0         \n",
            "                                                                 \n",
            " block4_conv1 (Conv2D)       (None, 37, 25, 512)       1180160   \n",
            "                                                                 \n",
            " block4_conv2 (Conv2D)       (None, 37, 25, 512)       2359808   \n",
            "                                                                 \n",
            " block4_conv3 (Conv2D)       (None, 37, 25, 512)       2359808   \n",
            "                                                                 \n",
            " block4_pool (MaxPooling2D)  (None, 18, 12, 512)       0         \n",
            "                                                                 \n",
            " block5_conv1 (Conv2D)       (None, 18, 12, 512)       2359808   \n",
            "                                                                 \n",
            " block5_conv2 (Conv2D)       (None, 18, 12, 512)       2359808   \n",
            "                                                                 \n",
            " block5_conv3 (Conv2D)       (None, 18, 12, 512)       2359808   \n",
            "                                                                 \n",
            " block5_pool (MaxPooling2D)  (None, 9, 6, 512)         0         \n",
            "                                                                 \n",
            "=================================================================\n",
            "Total params: 14,714,688\n",
            "Trainable params: 14,714,688\n",
            "Non-trainable params: 0\n",
            "_________________________________________________________________\n"
          ]
        }
      ]
    },
    {
      "cell_type": "code",
      "source": [
        "from tensorflow import keras\n",
        "from keras import layers\n",
        "\n",
        "rescale = tf.keras.Sequential([\n",
        "  layers.Rescaling(1./255)\n",
        "])"
      ],
      "metadata": {
        "id": "d7_dUdTiqqYv"
      },
      "execution_count": null,
      "outputs": []
    },
    {
      "cell_type": "code",
      "source": [
        "def prepare(ds, shuffle=False):\n",
        "  # Rescale all datasets.\n",
        "  ds = ds.map(lambda x, y: (rescale(x), y), \n",
        "              num_parallel_calls=AUTOTUNE)\n",
        "\n",
        "  if shuffle:\n",
        "    ds = ds.shuffle(1000)\n",
        "\n",
        "  # Batch all datasets.\n",
        "  ds = ds.batch(BATCH_SIZE)\n",
        "\n",
        "  # Use buffered prefetching on all datasets.\n",
        "  return ds.prefetch(buffer_size=AUTOTUNE)"
      ],
      "metadata": {
        "id": "a7VI_pyMM6IV"
      },
      "execution_count": null,
      "outputs": []
    },
    {
      "cell_type": "code",
      "source": [
        "train_ds = prepare(training_images, shuffle=True)\n",
        "val_ds = prepare(val_images)\n",
        "test_ds = prepare(test_images)"
      ],
      "metadata": {
        "id": "NnvkSp1PM7EL"
      },
      "execution_count": null,
      "outputs": []
    },
    {
      "cell_type": "code",
      "source": [
        "stop_early = tf.keras.callbacks.EarlyStopping(monitor='val_loss', patience=5)"
      ],
      "metadata": {
        "id": "n_A2dOLRMCk_"
      },
      "execution_count": null,
      "outputs": []
    },
    {
      "cell_type": "code",
      "metadata": {
        "colab": {
          "base_uri": "https://localhost:8080/"
        },
        "id": "67LTeT8GIxPo",
        "outputId": "553e0237-566c-44f7-e2c8-b68f4583c9e9"
      },
      "source": [
        "\n",
        "print('This is the number of trainable weights '\n",
        "      'before freezing the conv base:', sum(np.prod(x.shape) for x in conv_base.trainable_weights))"
      ],
      "execution_count": null,
      "outputs": [
        {
          "output_type": "stream",
          "name": "stdout",
          "text": [
            "This is the number of trainable weights before freezing the conv base: 14714688\n"
          ]
        }
      ]
    },
    {
      "cell_type": "code",
      "metadata": {
        "id": "rkDgYYW0IxPt"
      },
      "source": [
        "conv_base.trainable = False"
      ],
      "execution_count": null,
      "outputs": []
    },
    {
      "cell_type": "code",
      "metadata": {
        "colab": {
          "base_uri": "https://localhost:8080/"
        },
        "id": "s_hDOYQSIxPw",
        "outputId": "d4a5cc44-17b5-4e59-c146-bc1e77671a8b"
      },
      "source": [
        "print('This is the number of trainable weights '\n",
        "      'after freezing the conv base:', sum(np.prod(x.shape) for x in conv_base.trainable_weights))"
      ],
      "execution_count": null,
      "outputs": [
        {
          "output_type": "stream",
          "name": "stdout",
          "text": [
            "This is the number of trainable weights after freezing the conv base: 0\n"
          ]
        }
      ]
    },
    {
      "cell_type": "code",
      "source": [
        "conv_base.summary()"
      ],
      "metadata": {
        "colab": {
          "base_uri": "https://localhost:8080/"
        },
        "id": "Vil7bTvblI1i",
        "outputId": "cad01d99-aeb8-45f4-b118-7f521f949f19"
      },
      "execution_count": null,
      "outputs": [
        {
          "output_type": "stream",
          "name": "stdout",
          "text": [
            "Model: \"vgg16\"\n",
            "_________________________________________________________________\n",
            " Layer (type)                Output Shape              Param #   \n",
            "=================================================================\n",
            " input_3 (InputLayer)        [(None, 300, 200, 3)]     0         \n",
            "                                                                 \n",
            " block1_conv1 (Conv2D)       (None, 300, 200, 64)      1792      \n",
            "                                                                 \n",
            " block1_conv2 (Conv2D)       (None, 300, 200, 64)      36928     \n",
            "                                                                 \n",
            " block1_pool (MaxPooling2D)  (None, 150, 100, 64)      0         \n",
            "                                                                 \n",
            " block2_conv1 (Conv2D)       (None, 150, 100, 128)     73856     \n",
            "                                                                 \n",
            " block2_conv2 (Conv2D)       (None, 150, 100, 128)     147584    \n",
            "                                                                 \n",
            " block2_pool (MaxPooling2D)  (None, 75, 50, 128)       0         \n",
            "                                                                 \n",
            " block3_conv1 (Conv2D)       (None, 75, 50, 256)       295168    \n",
            "                                                                 \n",
            " block3_conv2 (Conv2D)       (None, 75, 50, 256)       590080    \n",
            "                                                                 \n",
            " block3_conv3 (Conv2D)       (None, 75, 50, 256)       590080    \n",
            "                                                                 \n",
            " block3_pool (MaxPooling2D)  (None, 37, 25, 256)       0         \n",
            "                                                                 \n",
            " block4_conv1 (Conv2D)       (None, 37, 25, 512)       1180160   \n",
            "                                                                 \n",
            " block4_conv2 (Conv2D)       (None, 37, 25, 512)       2359808   \n",
            "                                                                 \n",
            " block4_conv3 (Conv2D)       (None, 37, 25, 512)       2359808   \n",
            "                                                                 \n",
            " block4_pool (MaxPooling2D)  (None, 18, 12, 512)       0         \n",
            "                                                                 \n",
            " block5_conv1 (Conv2D)       (None, 18, 12, 512)       2359808   \n",
            "                                                                 \n",
            " block5_conv2 (Conv2D)       (None, 18, 12, 512)       2359808   \n",
            "                                                                 \n",
            " block5_conv3 (Conv2D)       (None, 18, 12, 512)       2359808   \n",
            "                                                                 \n",
            " block5_pool (MaxPooling2D)  (None, 9, 6, 512)         0         \n",
            "                                                                 \n",
            "=================================================================\n",
            "Total params: 14,714,688\n",
            "Trainable params: 0\n",
            "Non-trainable params: 14,714,688\n",
            "_________________________________________________________________\n"
          ]
        }
      ]
    },
    {
      "cell_type": "markdown",
      "source": [
        "We add on the top of the convbase two fully-connected layer, the last danse layer is used for the classficiation of the images in one of the 10 possible classes "
      ],
      "metadata": {
        "id": "tFYA3PxYU0KX"
      }
    },
    {
      "cell_type": "code",
      "metadata": {
        "id": "LS58cXFwIxPb"
      },
      "source": [
        "inputs = keras.Input(shape=(300, 200, 3))\n",
        "x = keras.applications.vgg16.preprocess_input(inputs)\n",
        "x = conv_base(x)\n",
        "x = layers.Flatten()(x)\n",
        "x = layers.Dense(128)(x)\n",
        "outputs = layers.Dense(3, activation=\"softmax\")(x)\n",
        "\n",
        "model = keras.Model(inputs, outputs)\n",
        "\n",
        "model.compile(loss=\"categorical_crossentropy\",\n",
        "              optimizer=\"rmsprop\",\n",
        "              metrics=[\"accuracy\"])"
      ],
      "execution_count": null,
      "outputs": []
    },
    {
      "cell_type": "code",
      "metadata": {
        "id": "xPxcXpYsok9Y"
      },
      "source": [
        "save_path = DIR_NAME + '/CNN_VGG16_standard/model.h5'\n",
        "\n",
        "callbacks_list = [\n",
        "    keras.callbacks.ModelCheckpoint(\n",
        "    filepath=save_path,\n",
        "    monitor=\"val_loss\",\n",
        "    verbose=1,\n",
        "    save_best_only=True),\n",
        "    stop_early\n",
        "]"
      ],
      "execution_count": null,
      "outputs": []
    },
    {
      "cell_type": "markdown",
      "source": [
        "**Train the model**"
      ],
      "metadata": {
        "id": "mJzKiGNvVF1g"
      }
    },
    {
      "cell_type": "code",
      "source": [
        "history = model.fit(\n",
        "    training_images,\n",
        "    epochs=50,\n",
        "    validation_data = val_images,\n",
        "    callbacks = callbacks_list\n",
        ")\n"
      ],
      "metadata": {
        "id": "welx9e44yTyI",
        "colab": {
          "base_uri": "https://localhost:8080/"
        },
        "outputId": "9c5152ae-543a-43bc-9b6d-36d1d5200abd"
      },
      "execution_count": null,
      "outputs": [
        {
          "output_type": "stream",
          "name": "stdout",
          "text": [
            "Epoch 1/50\n",
            "84/84 [==============================] - ETA: 0s - loss: 79.0297 - accuracy: 0.7522\n",
            "Epoch 1: val_loss improved from inf to 7.78365, saving model to /content/model/CNN_pretrained/CNN_VGG16_standard/model.h5\n",
            "84/84 [==============================] - 20s 233ms/step - loss: 79.0297 - accuracy: 0.7522 - val_loss: 7.7836 - val_accuracy: 0.9395\n",
            "Epoch 2/50\n",
            "84/84 [==============================] - ETA: 0s - loss: 12.6166 - accuracy: 0.9218\n",
            "Epoch 2: val_loss did not improve from 7.78365\n",
            "84/84 [==============================] - 20s 236ms/step - loss: 12.6166 - accuracy: 0.9218 - val_loss: 48.4095 - val_accuracy: 0.7707\n",
            "Epoch 3/50\n",
            "84/84 [==============================] - ETA: 0s - loss: 6.1602 - accuracy: 0.9560\n",
            "Epoch 3: val_loss did not improve from 7.78365\n",
            "84/84 [==============================] - 20s 235ms/step - loss: 6.1602 - accuracy: 0.9560 - val_loss: 10.0133 - val_accuracy: 0.9363\n",
            "Epoch 4/50\n",
            "84/84 [==============================] - ETA: 0s - loss: 4.0022 - accuracy: 0.9680\n",
            "Epoch 4: val_loss did not improve from 7.78365\n",
            "84/84 [==============================] - 20s 233ms/step - loss: 4.0022 - accuracy: 0.9680 - val_loss: 8.7798 - val_accuracy: 0.9554\n",
            "Epoch 5/50\n",
            "84/84 [==============================] - ETA: 0s - loss: 3.6876 - accuracy: 0.9709\n",
            "Epoch 5: val_loss did not improve from 7.78365\n",
            "84/84 [==============================] - 20s 234ms/step - loss: 3.6876 - accuracy: 0.9709 - val_loss: 8.7969 - val_accuracy: 0.9490\n",
            "Epoch 6/50\n",
            "84/84 [==============================] - ETA: 0s - loss: 2.0993 - accuracy: 0.9817\n",
            "Epoch 6: val_loss improved from 7.78365 to 7.10132, saving model to /content/model/CNN_pretrained/CNN_VGG16_standard/model.h5\n",
            "84/84 [==============================] - 20s 240ms/step - loss: 2.0993 - accuracy: 0.9817 - val_loss: 7.1013 - val_accuracy: 0.9554\n",
            "Epoch 7/50\n",
            "84/84 [==============================] - ETA: 0s - loss: 1.7892 - accuracy: 0.9862\n",
            "Epoch 7: val_loss improved from 7.10132 to 4.00140, saving model to /content/model/CNN_pretrained/CNN_VGG16_standard/model.h5\n",
            "84/84 [==============================] - 21s 240ms/step - loss: 1.7892 - accuracy: 0.9862 - val_loss: 4.0014 - val_accuracy: 0.9745\n",
            "Epoch 8/50\n",
            "84/84 [==============================] - ETA: 0s - loss: 1.4177 - accuracy: 0.9885\n",
            "Epoch 8: val_loss did not improve from 4.00140\n",
            "84/84 [==============================] - 20s 235ms/step - loss: 1.4177 - accuracy: 0.9885 - val_loss: 8.9490 - val_accuracy: 0.9490\n",
            "Epoch 9/50\n",
            "84/84 [==============================] - ETA: 0s - loss: 0.0000e+00 - accuracy: 1.0000\n",
            "Epoch 9: val_loss did not improve from 4.00140\n",
            "84/84 [==============================] - 20s 237ms/step - loss: 0.0000e+00 - accuracy: 1.0000 - val_loss: 8.9489 - val_accuracy: 0.9490\n",
            "Epoch 10/50\n",
            "84/84 [==============================] - ETA: 0s - loss: 0.0000e+00 - accuracy: 1.0000\n",
            "Epoch 10: val_loss did not improve from 4.00140\n",
            "84/84 [==============================] - 21s 240ms/step - loss: 0.0000e+00 - accuracy: 1.0000 - val_loss: 8.9475 - val_accuracy: 0.9490\n",
            "Epoch 11/50\n",
            "84/84 [==============================] - ETA: 0s - loss: 0.0000e+00 - accuracy: 1.0000\n",
            "Epoch 11: val_loss did not improve from 4.00140\n",
            "84/84 [==============================] - 20s 236ms/step - loss: 0.0000e+00 - accuracy: 1.0000 - val_loss: 8.9419 - val_accuracy: 0.9490\n",
            "Epoch 12/50\n",
            "84/84 [==============================] - ETA: 0s - loss: 0.0000e+00 - accuracy: 1.0000\n",
            "Epoch 12: val_loss did not improve from 4.00140\n",
            "84/84 [==============================] - 20s 236ms/step - loss: 0.0000e+00 - accuracy: 1.0000 - val_loss: 8.9221 - val_accuracy: 0.9490\n"
          ]
        }
      ]
    },
    {
      "cell_type": "code",
      "source": [
        "\n",
        "acc = history.history['accuracy']\n",
        "val_acc = history.history['val_accuracy']\n",
        "loss = history.history['loss']\n",
        "val_loss = history.history['val_loss']\n",
        "best_loss_epoch = np.argmin(val_loss)\n",
        "best_loss = np.min(val_loss)\n",
        "best_acc = val_acc[best_loss_epoch]\n",
        "\n",
        "epochs = range(len(acc))\n",
        "\n",
        "plt.plot(epochs, acc, 'b.', label='Training accuracy')\n",
        "plt.plot(epochs, val_acc, 'g.', label='Validation accuracy')\n",
        "plt.legend(loc='upper right')\n",
        "\n",
        "plt.figure()\n",
        "\n",
        "plt.plot(epochs, loss, 'b', label='Training loss')\n",
        "plt.plot(epochs, val_loss, 'g', label='Validation loss')\n",
        "plt.plot(best_loss_epoch, best_loss, 'ro', label='Selected model')\n",
        "plt.legend(loc='upper right')\n",
        "\n",
        "plt.show()\n"
      ],
      "metadata": {
        "id": "_BUGjqI0y8tm",
        "colab": {
          "base_uri": "https://localhost:8080/",
          "height": 513
        },
        "outputId": "27a66490-e19a-432a-9240-19b86ecc0a33"
      },
      "execution_count": null,
      "outputs": [
        {
          "output_type": "display_data",
          "data": {
            "text/plain": [
              "<Figure size 432x288 with 1 Axes>"
            ],
            "image/png": "[encoded data removed]"
          },
          "metadata": {
            "needs_background": "light"
          }
        },
        {
          "output_type": "display_data",
          "data": {
            "text/plain": [
              "<Figure size 432x288 with 1 Axes>"
            ],
            "image/png": "[encoded data removed]"
          },
          "metadata": {
            "needs_background": "light"
          }
        }
      ]
    },
    {
      "cell_type": "code",
      "source": [
        "with open(os.path.join(DIR_NAME, 'CNN_VGG16_standard/history'), 'wb') as file_pi:\n",
        "        pickle.dump(history.history, file_pi)"
      ],
      "metadata": {
        "id": "hbDICU2YzH6B"
      },
      "execution_count": null,
      "outputs": []
    },
    {
      "cell_type": "markdown",
      "source": [
        "# **DROPOUT**\n",
        "\n",
        "It is good pratice to exploit different solution to assess if it is possible to maximise the results of the networks.\n",
        "First technique applied is DROPOUT on a more complex network."
      ],
      "metadata": {
        "id": "hv9zZG1F0GZz"
      }
    },
    {
      "cell_type": "code",
      "source": [
        "inputs = keras.Input(shape=(300, 200, 3))\n",
        "x = keras.applications.vgg16.preprocess_input(inputs)\n",
        "x = conv_base(x)\n",
        "x = layers.Flatten()(x)\n",
        "x = layers.Dense(512)(x)\n",
        "x = layers.Dropout(0.2)(x)\n",
        "x = layers.Dense(256)(x)\n",
        "x = layers.Dropout(0.5)(x)\n",
        "outputs = layers.Dense(3, activation=\"softmax\")(x)\n",
        "\n",
        "model = keras.Model(inputs, outputs)\n",
        "\n",
        "model.compile(loss=\"categorical_crossentropy\",\n",
        "              optimizer=\"rmsprop\",\n",
        "              metrics=[\"accuracy\"])"
      ],
      "metadata": {
        "id": "Xkz3c6T50F47"
      },
      "execution_count": null,
      "outputs": []
    },
    {
      "cell_type": "code",
      "source": [
        "save_path = DIR_NAME + '/CNN_VGG16_Dropout/model.h5'\n",
        "\n",
        "callbacks_list = [\n",
        "    keras.callbacks.ModelCheckpoint(\n",
        "    filepath=save_path,\n",
        "    monitor=\"val_loss\",\n",
        "    verbose=1,\n",
        "    save_best_only=True)\n",
        "]"
      ],
      "metadata": {
        "id": "JY6m7bwV0SmB"
      },
      "execution_count": null,
      "outputs": []
    },
    {
      "cell_type": "markdown",
      "source": [
        "**Train the model**"
      ],
      "metadata": {
        "id": "Uf66rpnVXf0I"
      }
    },
    {
      "cell_type": "code",
      "source": [
        "history = model.fit(\n",
        "    training_images,\n",
        "    epochs=30, \n",
        "    validation_data = val_images,\n",
        "    callbacks = callbacks_list\n",
        ")\n",
        "\n"
      ],
      "metadata": {
        "id": "Jj739ADL09So",
        "colab": {
          "base_uri": "https://localhost:8080/",
          "height": 416
        },
        "outputId": "7cae224a-1728-49c8-947d-2a8e647e3933"
      },
      "execution_count": null,
      "outputs": [
        {
          "output_type": "stream",
          "name": "stdout",
          "text": [
            "Epoch 1/30\n",
            "12/84 [===>..........................] - ETA: 15s - loss: 1.2138 - accuracy: 0.9948"
          ]
        },
        {
          "output_type": "error",
          "ename": "KeyboardInterrupt",
          "evalue": "ignored",
          "traceback": [
            "\u001b[0;31m---------------------------------------------------------------------------\u001b[0m",
            "\u001b[0;31mKeyboardInterrupt\u001b[0m                         Traceback (most recent call last)",
            "\u001b[0;32m<ipython-input-23-15ef3befb93c>\u001b[0m in \u001b[0;36m<module>\u001b[0;34m\u001b[0m\n\u001b[0;32m----> 1\u001b[0;31m history = model.fit(\n\u001b[0m\u001b[1;32m      2\u001b[0m     \u001b[0mtraining_images\u001b[0m\u001b[0;34m,\u001b[0m\u001b[0;34m\u001b[0m\u001b[0;34m\u001b[0m\u001b[0m\n\u001b[1;32m      3\u001b[0m     \u001b[0mepochs\u001b[0m\u001b[0;34m=\u001b[0m\u001b[0;36m30\u001b[0m\u001b[0;34m,\u001b[0m\u001b[0;34m\u001b[0m\u001b[0;34m\u001b[0m\u001b[0m\n\u001b[1;32m      4\u001b[0m     \u001b[0mvalidation_data\u001b[0m \u001b[0;34m=\u001b[0m \u001b[0mval_images\u001b[0m\u001b[0;34m,\u001b[0m\u001b[0;34m\u001b[0m\u001b[0;34m\u001b[0m\u001b[0m\n\u001b[1;32m      5\u001b[0m     \u001b[0mcallbacks\u001b[0m \u001b[0;34m=\u001b[0m \u001b[0mcallbacks_list\u001b[0m\u001b[0;34m\u001b[0m\u001b[0;34m\u001b[0m\u001b[0m\n",
            "\u001b[0;32m/usr/local/lib/python3.8/dist-packages/keras/utils/traceback_utils.py\u001b[0m in \u001b[0;36merror_handler\u001b[0;34m(*args, **kwargs)\u001b[0m\n\u001b[1;32m     62\u001b[0m     \u001b[0mfiltered_tb\u001b[0m \u001b[0;34m=\u001b[0m \u001b[0;32mNone\u001b[0m\u001b[0;34m\u001b[0m\u001b[0;34m\u001b[0m\u001b[0m\n\u001b[1;32m     63\u001b[0m     \u001b[0;32mtry\u001b[0m\u001b[0;34m:\u001b[0m\u001b[0;34m\u001b[0m\u001b[0;34m\u001b[0m\u001b[0m\n\u001b[0;32m---> 64\u001b[0;31m       \u001b[0;32mreturn\u001b[0m \u001b[0mfn\u001b[0m\u001b[0;34m(\u001b[0m\u001b[0;34m*\u001b[0m\u001b[0margs\u001b[0m\u001b[0;34m,\u001b[0m \u001b[0;34m**\u001b[0m\u001b[0mkwargs\u001b[0m\u001b[0;34m)\u001b[0m\u001b[0;34m\u001b[0m\u001b[0;34m\u001b[0m\u001b[0m\n\u001b[0m\u001b[1;32m     65\u001b[0m     \u001b[0;32mexcept\u001b[0m \u001b[0mException\u001b[0m \u001b[0;32mas\u001b[0m \u001b[0me\u001b[0m\u001b[0;34m:\u001b[0m  \u001b[0;31m# pylint: disable=broad-except\u001b[0m\u001b[0;34m\u001b[0m\u001b[0;34m\u001b[0m\u001b[0m\n\u001b[1;32m     66\u001b[0m       \u001b[0mfiltered_tb\u001b[0m \u001b[0;34m=\u001b[0m \u001b[0m_process_traceback_frames\u001b[0m\u001b[0;34m(\u001b[0m\u001b[0me\u001b[0m\u001b[0;34m.\u001b[0m\u001b[0m__traceback__\u001b[0m\u001b[0;34m)\u001b[0m\u001b[0;34m\u001b[0m\u001b[0;34m\u001b[0m\u001b[0m\n",
            "\u001b[0;32m/usr/local/lib/python3.8/dist-packages/keras/engine/training.py\u001b[0m in \u001b[0;36mfit\u001b[0;34m(self, x, y, batch_size, epochs, verbose, callbacks, validation_split, validation_data, shuffle, class_weight, sample_weight, initial_epoch, steps_per_epoch, validation_steps, validation_batch_size, validation_freq, max_queue_size, workers, use_multiprocessing)\u001b[0m\n\u001b[1;32m   1407\u001b[0m                 _r=1):\n\u001b[1;32m   1408\u001b[0m               \u001b[0mcallbacks\u001b[0m\u001b[0;34m.\u001b[0m\u001b[0mon_train_batch_begin\u001b[0m\u001b[0;34m(\u001b[0m\u001b[0mstep\u001b[0m\u001b[0;34m)\u001b[0m\u001b[0;34m\u001b[0m\u001b[0;34m\u001b[0m\u001b[0m\n\u001b[0;32m-> 1409\u001b[0;31m               \u001b[0mtmp_logs\u001b[0m \u001b[0;34m=\u001b[0m \u001b[0mself\u001b[0m\u001b[0;34m.\u001b[0m\u001b[0mtrain_function\u001b[0m\u001b[0;34m(\u001b[0m\u001b[0miterator\u001b[0m\u001b[0;34m)\u001b[0m\u001b[0;34m\u001b[0m\u001b[0;34m\u001b[0m\u001b[0m\n\u001b[0m\u001b[1;32m   1410\u001b[0m               \u001b[0;32mif\u001b[0m \u001b[0mdata_handler\u001b[0m\u001b[0;34m.\u001b[0m\u001b[0mshould_sync\u001b[0m\u001b[0;34m:\u001b[0m\u001b[0;34m\u001b[0m\u001b[0;34m\u001b[0m\u001b[0m\n\u001b[1;32m   1411\u001b[0m                 \u001b[0mcontext\u001b[0m\u001b[0;34m.\u001b[0m\u001b[0masync_wait\u001b[0m\u001b[0;34m(\u001b[0m\u001b[0;34m)\u001b[0m\u001b[0;34m\u001b[0m\u001b[0;34m\u001b[0m\u001b[0m\n",
            "\u001b[0;32m/usr/local/lib/python3.8/dist-packages/tensorflow/python/util/traceback_utils.py\u001b[0m in \u001b[0;36merror_handler\u001b[0;34m(*args, **kwargs)\u001b[0m\n\u001b[1;32m    148\u001b[0m     \u001b[0mfiltered_tb\u001b[0m \u001b[0;34m=\u001b[0m \u001b[0;32mNone\u001b[0m\u001b[0;34m\u001b[0m\u001b[0;34m\u001b[0m\u001b[0m\n\u001b[1;32m    149\u001b[0m     \u001b[0;32mtry\u001b[0m\u001b[0;34m:\u001b[0m\u001b[0;34m\u001b[0m\u001b[0;34m\u001b[0m\u001b[0m\n\u001b[0;32m--> 150\u001b[0;31m       \u001b[0;32mreturn\u001b[0m \u001b[0mfn\u001b[0m\u001b[0;34m(\u001b[0m\u001b[0;34m*\u001b[0m\u001b[0margs\u001b[0m\u001b[0;34m,\u001b[0m \u001b[0;34m**\u001b[0m\u001b[0mkwargs\u001b[0m\u001b[0;34m)\u001b[0m\u001b[0;34m\u001b[0m\u001b[0;34m\u001b[0m\u001b[0m\n\u001b[0m\u001b[1;32m    151\u001b[0m     \u001b[0;32mexcept\u001b[0m \u001b[0mException\u001b[0m \u001b[0;32mas\u001b[0m \u001b[0me\u001b[0m\u001b[0;34m:\u001b[0m\u001b[0;34m\u001b[0m\u001b[0;34m\u001b[0m\u001b[0m\n\u001b[1;32m    152\u001b[0m       \u001b[0mfiltered_tb\u001b[0m \u001b[0;34m=\u001b[0m \u001b[0m_process_traceback_frames\u001b[0m\u001b[0;34m(\u001b[0m\u001b[0me\u001b[0m\u001b[0;34m.\u001b[0m\u001b[0m__traceback__\u001b[0m\u001b[0;34m)\u001b[0m\u001b[0;34m\u001b[0m\u001b[0;34m\u001b[0m\u001b[0m\n",
            "\u001b[0;32m/usr/local/lib/python3.8/dist-packages/tensorflow/python/eager/def_function.py\u001b[0m in \u001b[0;36m__call__\u001b[0;34m(self, *args, **kwds)\u001b[0m\n\u001b[1;32m    913\u001b[0m \u001b[0;34m\u001b[0m\u001b[0m\n\u001b[1;32m    914\u001b[0m       \u001b[0;32mwith\u001b[0m \u001b[0mOptionalXlaContext\u001b[0m\u001b[0;34m(\u001b[0m\u001b[0mself\u001b[0m\u001b[0;34m.\u001b[0m\u001b[0m_jit_compile\u001b[0m\u001b[0;34m)\u001b[0m\u001b[0;34m:\u001b[0m\u001b[0;34m\u001b[0m\u001b[0;34m\u001b[0m\u001b[0m\n\u001b[0;32m--> 915\u001b[0;31m         \u001b[0mresult\u001b[0m \u001b[0;34m=\u001b[0m \u001b[0mself\u001b[0m\u001b[0;34m.\u001b[0m\u001b[0m_call\u001b[0m\u001b[0;34m(\u001b[0m\u001b[0;34m*\u001b[0m\u001b[0margs\u001b[0m\u001b[0;34m,\u001b[0m \u001b[0;34m**\u001b[0m\u001b[0mkwds\u001b[0m\u001b[0;34m)\u001b[0m\u001b[0;34m\u001b[0m\u001b[0;34m\u001b[0m\u001b[0m\n\u001b[0m\u001b[1;32m    916\u001b[0m \u001b[0;34m\u001b[0m\u001b[0m\n\u001b[1;32m    917\u001b[0m       \u001b[0mnew_tracing_count\u001b[0m \u001b[0;34m=\u001b[0m \u001b[0mself\u001b[0m\u001b[0;34m.\u001b[0m\u001b[0mexperimental_get_tracing_count\u001b[0m\u001b[0;34m(\u001b[0m\u001b[0;34m)\u001b[0m\u001b[0;34m\u001b[0m\u001b[0;34m\u001b[0m\u001b[0m\n",
            "\u001b[0;32m/usr/local/lib/python3.8/dist-packages/tensorflow/python/eager/def_function.py\u001b[0m in \u001b[0;36m_call\u001b[0;34m(self, *args, **kwds)\u001b[0m\n\u001b[1;32m    945\u001b[0m       \u001b[0;31m# In this case we have created variables on the first call, so we run the\u001b[0m\u001b[0;34m\u001b[0m\u001b[0;34m\u001b[0m\u001b[0;34m\u001b[0m\u001b[0m\n\u001b[1;32m    946\u001b[0m       \u001b[0;31m# defunned version which is guaranteed to never create variables.\u001b[0m\u001b[0;34m\u001b[0m\u001b[0;34m\u001b[0m\u001b[0;34m\u001b[0m\u001b[0m\n\u001b[0;32m--> 947\u001b[0;31m       \u001b[0;32mreturn\u001b[0m \u001b[0mself\u001b[0m\u001b[0;34m.\u001b[0m\u001b[0m_stateless_fn\u001b[0m\u001b[0;34m(\u001b[0m\u001b[0;34m*\u001b[0m\u001b[0margs\u001b[0m\u001b[0;34m,\u001b[0m \u001b[0;34m**\u001b[0m\u001b[0mkwds\u001b[0m\u001b[0;34m)\u001b[0m  \u001b[0;31m# pylint: disable=not-callable\u001b[0m\u001b[0;34m\u001b[0m\u001b[0;34m\u001b[0m\u001b[0m\n\u001b[0m\u001b[1;32m    948\u001b[0m     \u001b[0;32melif\u001b[0m \u001b[0mself\u001b[0m\u001b[0;34m.\u001b[0m\u001b[0m_stateful_fn\u001b[0m \u001b[0;32mis\u001b[0m \u001b[0;32mnot\u001b[0m \u001b[0;32mNone\u001b[0m\u001b[0;34m:\u001b[0m\u001b[0;34m\u001b[0m\u001b[0;34m\u001b[0m\u001b[0m\n\u001b[1;32m    949\u001b[0m       \u001b[0;31m# Release the lock early so that multiple threads can perform the call\u001b[0m\u001b[0;34m\u001b[0m\u001b[0;34m\u001b[0m\u001b[0;34m\u001b[0m\u001b[0m\n",
            "\u001b[0;32m/usr/local/lib/python3.8/dist-packages/tensorflow/python/eager/function.py\u001b[0m in \u001b[0;36m__call__\u001b[0;34m(self, *args, **kwargs)\u001b[0m\n\u001b[1;32m   2451\u001b[0m       (graph_function,\n\u001b[1;32m   2452\u001b[0m        filtered_flat_args) = self._maybe_define_function(args, kwargs)\n\u001b[0;32m-> 2453\u001b[0;31m     return graph_function._call_flat(\n\u001b[0m\u001b[1;32m   2454\u001b[0m         filtered_flat_args, captured_inputs=graph_function.captured_inputs)  # pylint: disable=protected-access\n\u001b[1;32m   2455\u001b[0m \u001b[0;34m\u001b[0m\u001b[0m\n",
            "\u001b[0;32m/usr/local/lib/python3.8/dist-packages/tensorflow/python/eager/function.py\u001b[0m in \u001b[0;36m_call_flat\u001b[0;34m(self, args, captured_inputs, cancellation_manager)\u001b[0m\n\u001b[1;32m   1858\u001b[0m         and executing_eagerly):\n\u001b[1;32m   1859\u001b[0m       \u001b[0;31m# No tape is watching; skip to running the function.\u001b[0m\u001b[0;34m\u001b[0m\u001b[0;34m\u001b[0m\u001b[0;34m\u001b[0m\u001b[0m\n\u001b[0;32m-> 1860\u001b[0;31m       return self._build_call_outputs(self._inference_function.call(\n\u001b[0m\u001b[1;32m   1861\u001b[0m           ctx, args, cancellation_manager=cancellation_manager))\n\u001b[1;32m   1862\u001b[0m     forward_backward = self._select_forward_and_backward_functions(\n",
            "\u001b[0;32m/usr/local/lib/python3.8/dist-packages/tensorflow/python/eager/function.py\u001b[0m in \u001b[0;36mcall\u001b[0;34m(self, ctx, args, cancellation_manager)\u001b[0m\n\u001b[1;32m    495\u001b[0m       \u001b[0;32mwith\u001b[0m \u001b[0m_InterpolateFunctionError\u001b[0m\u001b[0;34m(\u001b[0m\u001b[0mself\u001b[0m\u001b[0;34m)\u001b[0m\u001b[0;34m:\u001b[0m\u001b[0;34m\u001b[0m\u001b[0;34m\u001b[0m\u001b[0m\n\u001b[1;32m    496\u001b[0m         \u001b[0;32mif\u001b[0m \u001b[0mcancellation_manager\u001b[0m \u001b[0;32mis\u001b[0m \u001b[0;32mNone\u001b[0m\u001b[0;34m:\u001b[0m\u001b[0;34m\u001b[0m\u001b[0;34m\u001b[0m\u001b[0m\n\u001b[0;32m--> 497\u001b[0;31m           outputs = execute.execute(\n\u001b[0m\u001b[1;32m    498\u001b[0m               \u001b[0mstr\u001b[0m\u001b[0;34m(\u001b[0m\u001b[0mself\u001b[0m\u001b[0;34m.\u001b[0m\u001b[0msignature\u001b[0m\u001b[0;34m.\u001b[0m\u001b[0mname\u001b[0m\u001b[0;34m)\u001b[0m\u001b[0;34m,\u001b[0m\u001b[0;34m\u001b[0m\u001b[0;34m\u001b[0m\u001b[0m\n\u001b[1;32m    499\u001b[0m               \u001b[0mnum_outputs\u001b[0m\u001b[0;34m=\u001b[0m\u001b[0mself\u001b[0m\u001b[0;34m.\u001b[0m\u001b[0m_num_outputs\u001b[0m\u001b[0;34m,\u001b[0m\u001b[0;34m\u001b[0m\u001b[0;34m\u001b[0m\u001b[0m\n",
            "\u001b[0;32m/usr/local/lib/python3.8/dist-packages/tensorflow/python/eager/execute.py\u001b[0m in \u001b[0;36mquick_execute\u001b[0;34m(op_name, num_outputs, inputs, attrs, ctx, name)\u001b[0m\n\u001b[1;32m     52\u001b[0m   \u001b[0;32mtry\u001b[0m\u001b[0;34m:\u001b[0m\u001b[0;34m\u001b[0m\u001b[0;34m\u001b[0m\u001b[0m\n\u001b[1;32m     53\u001b[0m     \u001b[0mctx\u001b[0m\u001b[0;34m.\u001b[0m\u001b[0mensure_initialized\u001b[0m\u001b[0;34m(\u001b[0m\u001b[0;34m)\u001b[0m\u001b[0;34m\u001b[0m\u001b[0;34m\u001b[0m\u001b[0m\n\u001b[0;32m---> 54\u001b[0;31m     tensors = pywrap_tfe.TFE_Py_Execute(ctx._handle, device_name, op_name,\n\u001b[0m\u001b[1;32m     55\u001b[0m                                         inputs, attrs, num_outputs)\n\u001b[1;32m     56\u001b[0m   \u001b[0;32mexcept\u001b[0m \u001b[0mcore\u001b[0m\u001b[0;34m.\u001b[0m\u001b[0m_NotOkStatusException\u001b[0m \u001b[0;32mas\u001b[0m \u001b[0me\u001b[0m\u001b[0;34m:\u001b[0m\u001b[0;34m\u001b[0m\u001b[0;34m\u001b[0m\u001b[0m\n",
            "\u001b[0;31mKeyboardInterrupt\u001b[0m: "
          ]
        }
      ]
    },
    {
      "cell_type": "code",
      "source": [
        "\n",
        "acc = history.history['accuracy']\n",
        "val_acc = history.history['val_accuracy']\n",
        "loss = history.history['loss']\n",
        "val_loss = history.history['val_loss']\n",
        "best_loss_epoch = np.argmin(val_loss)\n",
        "best_loss = np.min(val_loss)\n",
        "best_acc = val_acc[best_loss_epoch]\n",
        "\n",
        "epochs = range(len(acc))\n",
        "\n",
        "plt.plot(epochs, acc, 'b.', label='Training accuracy')\n",
        "plt.plot(epochs, val_acc, 'g.', label='Validation accuracy')\n",
        "plt.legend(loc='upper right')\n",
        "\n",
        "plt.figure()\n",
        "\n",
        "plt.plot(epochs, loss, 'b', label='Training loss')\n",
        "plt.plot(epochs, val_loss, 'g', label='Validation loss')\n",
        "plt.plot(best_loss_epoch, best_loss, 'ro', label='Selected model')\n",
        "plt.legend(loc='upper right')\n",
        "\n",
        "plt.show()\n",
        "print(f\"Lowest validation loss has been reached at epoch {best_loss_epoch:d} with validation accuracy of {best_acc:.3f}\")\n"
      ],
      "metadata": {
        "id": "X5GssrQN0_j5",
        "colab": {
          "base_uri": "https://localhost:8080/",
          "height": 534
        },
        "outputId": "3e9a8310-3d30-4876-bff6-45987bd95822"
      },
      "execution_count": null,
      "outputs": [
        {
          "output_type": "display_data",
          "data": {
            "text/plain": [
              "<Figure size 432x288 with 1 Axes>"
            ],
            "image/png": "[encoded data removed]"
          },
          "metadata": {
            "needs_background": "light"
          }
        },
        {
          "output_type": "display_data",
          "data": {
            "text/plain": [
              "<Figure size 432x288 with 1 Axes>"
            ],
            "image/png": "[encoded data removed]"
          },
          "metadata": {
            "needs_background": "light"
          }
        },
        {
          "output_type": "stream",
          "name": "stdout",
          "text": [
            "Lowest validation loss has been reached at epoch 7 with validation accuracy of 0.971\n"
          ]
        }
      ]
    },
    {
      "cell_type": "code",
      "source": [
        "with open(os.path.join(DIR_NAME, 'CNN_VGG16_Dropout/history'), 'wb') as file_pi:\n",
        "        pickle.dump(history.history, file_pi)"
      ],
      "metadata": {
        "id": "KQPyYjHJ1BlF"
      },
      "execution_count": null,
      "outputs": []
    },
    {
      "cell_type": "markdown",
      "source": [
        "# **FINE TUNING** (first version)\n",
        "\n",
        "Since the highest layers of the network have most likely learned to recognize features that are more specific\n",
        "to the original dataset, we though that performing fine-tuning might be beneficial to the performance of the model. In particular we unlock the fifth layers of VGG16 network."
      ],
      "metadata": {
        "id": "TfMNkKzpWncw"
      }
    },
    {
      "cell_type": "code",
      "source": [
        "model = models.load_model('/content/model/CNN_pretrained/CNN_VGG16_standard/model.h5')"
      ],
      "metadata": {
        "id": "tvLKe3eCETkp"
      },
      "execution_count": null,
      "outputs": []
    },
    {
      "cell_type": "code",
      "source": [
        "conv_base.summary()"
      ],
      "metadata": {
        "colab": {
          "base_uri": "https://localhost:8080/"
        },
        "id": "KlCeMW5I4L5E",
        "outputId": "eeda2bb0-daa6-4bce-c44e-d8ff216df4a1"
      },
      "execution_count": null,
      "outputs": [
        {
          "output_type": "stream",
          "name": "stdout",
          "text": [
            "Model: \"vgg16\"\n",
            "_________________________________________________________________\n",
            " Layer (type)                Output Shape              Param #   \n",
            "=================================================================\n",
            " input_3 (InputLayer)        [(None, 300, 200, 3)]     0         \n",
            "                                                                 \n",
            " block1_conv1 (Conv2D)       (None, 300, 200, 64)      1792      \n",
            "                                                                 \n",
            " block1_conv2 (Conv2D)       (None, 300, 200, 64)      36928     \n",
            "                                                                 \n",
            " block1_pool (MaxPooling2D)  (None, 150, 100, 64)      0         \n",
            "                                                                 \n",
            " block2_conv1 (Conv2D)       (None, 150, 100, 128)     73856     \n",
            "                                                                 \n",
            " block2_conv2 (Conv2D)       (None, 150, 100, 128)     147584    \n",
            "                                                                 \n",
            " block2_pool (MaxPooling2D)  (None, 75, 50, 128)       0         \n",
            "                                                                 \n",
            " block3_conv1 (Conv2D)       (None, 75, 50, 256)       295168    \n",
            "                                                                 \n",
            " block3_conv2 (Conv2D)       (None, 75, 50, 256)       590080    \n",
            "                                                                 \n",
            " block3_conv3 (Conv2D)       (None, 75, 50, 256)       590080    \n",
            "                                                                 \n",
            " block3_pool (MaxPooling2D)  (None, 37, 25, 256)       0         \n",
            "                                                                 \n",
            " block4_conv1 (Conv2D)       (None, 37, 25, 512)       1180160   \n",
            "                                                                 \n",
            " block4_conv2 (Conv2D)       (None, 37, 25, 512)       2359808   \n",
            "                                                                 \n",
            " block4_conv3 (Conv2D)       (None, 37, 25, 512)       2359808   \n",
            "                                                                 \n",
            " block4_pool (MaxPooling2D)  (None, 18, 12, 512)       0         \n",
            "                                                                 \n",
            " block5_conv1 (Conv2D)       (None, 18, 12, 512)       2359808   \n",
            "                                                                 \n",
            " block5_conv2 (Conv2D)       (None, 18, 12, 512)       2359808   \n",
            "                                                                 \n",
            " block5_conv3 (Conv2D)       (None, 18, 12, 512)       2359808   \n",
            "                                                                 \n",
            " block5_pool (MaxPooling2D)  (None, 9, 6, 512)         0         \n",
            "                                                                 \n",
            "=================================================================\n",
            "Total params: 14,714,688\n",
            "Trainable params: 0\n",
            "Non-trainable params: 14,714,688\n",
            "_________________________________________________________________\n"
          ]
        }
      ]
    },
    {
      "cell_type": "markdown",
      "source": [
        "\n",
        "**Unlock the fifth layers of VGG16 network.** "
      ],
      "metadata": {
        "id": "THK74RLK5uhI"
      }
    },
    {
      "cell_type": "code",
      "source": [
        "for layer in model.get_layer('vgg16').layers:\n",
        "  print(layer.name)\n",
        "  print(layer.trainable)\n",
        "\n",
        "print('\\n-------------\\n')\n",
        "\n",
        "model.get_layer('vgg16').trainable = True\n",
        "\n",
        "set_trainable = False\n",
        "for layer in model.get_layer('vgg16').layers:\n",
        "\n",
        "    if layer.name == 'block5_conv1':\n",
        "        set_trainable = True\n",
        "    if set_trainable:\n",
        "        layer.trainable = True\n",
        "    else:\n",
        "        layer.trainable = False\n",
        "\n",
        "for layer in conv_base.layers:\n",
        "  print(layer.name)\n",
        "  print(layer.trainable)"
      ],
      "metadata": {
        "id": "-k-razCW4NFJ",
        "colab": {
          "base_uri": "https://localhost:8080/"
        },
        "outputId": "f4174ef1-f4a5-4bd7-f9bf-cd8d0b0ac18d"
      },
      "execution_count": null,
      "outputs": [
        {
          "output_type": "stream",
          "name": "stdout",
          "text": [
            "input_3\n",
            "True\n",
            "block1_conv1\n",
            "False\n",
            "block1_conv2\n",
            "False\n",
            "block1_pool\n",
            "False\n",
            "block2_conv1\n",
            "False\n",
            "block2_conv2\n",
            "False\n",
            "block2_pool\n",
            "False\n",
            "block3_conv1\n",
            "False\n",
            "block3_conv2\n",
            "False\n",
            "block3_conv3\n",
            "False\n",
            "block3_pool\n",
            "False\n",
            "block4_conv1\n",
            "False\n",
            "block4_conv2\n",
            "False\n",
            "block4_conv3\n",
            "False\n",
            "block4_pool\n",
            "False\n",
            "block5_conv1\n",
            "False\n",
            "block5_conv2\n",
            "False\n",
            "block5_conv3\n",
            "False\n",
            "block5_pool\n",
            "False\n",
            "\n",
            "-------------\n",
            "\n",
            "input_3\n",
            "False\n",
            "block1_conv1\n",
            "False\n",
            "block1_conv2\n",
            "False\n",
            "block1_pool\n",
            "False\n",
            "block2_conv1\n",
            "False\n",
            "block2_conv2\n",
            "False\n",
            "block2_pool\n",
            "False\n",
            "block3_conv1\n",
            "False\n",
            "block3_conv2\n",
            "False\n",
            "block3_conv3\n",
            "False\n",
            "block3_pool\n",
            "False\n",
            "block4_conv1\n",
            "False\n",
            "block4_conv2\n",
            "False\n",
            "block4_conv3\n",
            "False\n",
            "block4_pool\n",
            "False\n",
            "block5_conv1\n",
            "False\n",
            "block5_conv2\n",
            "False\n",
            "block5_conv3\n",
            "False\n",
            "block5_pool\n",
            "False\n"
          ]
        }
      ]
    },
    {
      "cell_type": "code",
      "source": [
        "model.compile(loss=\"categorical_crossentropy\",\n",
        "              optimizer=keras.optimizers.RMSprop(learning_rate=1e-5),\n",
        "              metrics=[\"accuracy\"])"
      ],
      "metadata": {
        "id": "RrR6jCaT56Pn"
      },
      "execution_count": null,
      "outputs": []
    },
    {
      "cell_type": "code",
      "source": [
        "model.summary()"
      ],
      "metadata": {
        "id": "DW7mwy2Q59nf",
        "colab": {
          "base_uri": "https://localhost:8080/"
        },
        "outputId": "3b9417a0-7f41-4d9b-e649-93809234a8f7"
      },
      "execution_count": null,
      "outputs": [
        {
          "output_type": "stream",
          "name": "stdout",
          "text": [
            "Model: \"model_3\"\n",
            "_________________________________________________________________\n",
            " Layer (type)                Output Shape              Param #   \n",
            "=================================================================\n",
            " input_7 (InputLayer)        [(None, 300, 200, 3)]     0         \n",
            "                                                                 \n",
            " tf.__operators__.getitem_3   (None, 300, 200, 3)      0         \n",
            " (SlicingOpLambda)                                               \n",
            "                                                                 \n",
            " tf.nn.bias_add_3 (TFOpLambd  (None, 300, 200, 3)      0         \n",
            " a)                                                              \n",
            "                                                                 \n",
            " vgg16 (Functional)          (None, 9, 6, 512)         14714688  \n",
            "                                                                 \n",
            " flatten_3 (Flatten)         (None, 27648)             0         \n",
            "                                                                 \n",
            " dense_8 (Dense)             (None, 128)               3539072   \n",
            "                                                                 \n",
            " dense_9 (Dense)             (None, 3)                 387       \n",
            "                                                                 \n",
            "=================================================================\n",
            "Total params: 18,254,147\n",
            "Trainable params: 10,618,883\n",
            "Non-trainable params: 7,635,264\n",
            "_________________________________________________________________\n"
          ]
        }
      ]
    },
    {
      "cell_type": "code",
      "source": [
        "save_path = DIR_NAME +'/CNN_VGG16_Dropout_fineTuning/model.h5'\n",
        "\n",
        "callbacks_list = [\n",
        "    keras.callbacks.ModelCheckpoint(\n",
        "        filepath=save_path,\n",
        "        monitor=\"val_loss\",\n",
        "        verbose=1,\n",
        "        save_best_only=True),\n",
        "        stop_early\n",
        "]"
      ],
      "metadata": {
        "id": "hUszfNfm6mlW"
      },
      "execution_count": null,
      "outputs": []
    },
    {
      "cell_type": "markdown",
      "source": [
        "**Train the model after unfreezing the fith layer of the conv-base**"
      ],
      "metadata": {
        "id": "gEyz44QmWy_N"
      }
    },
    {
      "cell_type": "code",
      "source": [
        "\n",
        "history = model.fit(\n",
        "    training_images,\n",
        "    epochs=30, \n",
        "    validation_data = val_images,\n",
        "    callbacks=callbacks_list)\n"
      ],
      "metadata": {
        "id": "sP6CTjJ36B5Y",
        "colab": {
          "base_uri": "https://localhost:8080/"
        },
        "outputId": "eed478e4-3bbc-4b84-c4d0-f24ca2fec306"
      },
      "execution_count": null,
      "outputs": [
        {
          "output_type": "stream",
          "name": "stdout",
          "text": [
            "Epoch 1/30\n",
            "84/84 [==============================] - ETA: 0s - loss: 0.1801 - accuracy: 0.9963\n",
            "Epoch 1: val_loss improved from inf to 5.76481, saving model to /content/model/CNN_pretrained/CNN_VGG16_Dropout_fineTuning/model.h5\n",
            "84/84 [==============================] - 23s 249ms/step - loss: 0.1801 - accuracy: 0.9963 - val_loss: 5.7648 - val_accuracy: 0.9586\n",
            "Epoch 2/30\n",
            "84/84 [==============================] - ETA: 0s - loss: 0.0810 - accuracy: 0.9970\n",
            "Epoch 2: val_loss did not improve from 5.76481\n",
            "84/84 [==============================] - 21s 247ms/step - loss: 0.0810 - accuracy: 0.9970 - val_loss: 5.9291 - val_accuracy: 0.9554\n",
            "Epoch 3/30\n",
            "84/84 [==============================] - ETA: 0s - loss: 7.6392e-05 - accuracy: 1.0000\n",
            "Epoch 3: val_loss improved from 5.76481 to 3.99550, saving model to /content/model/CNN_pretrained/CNN_VGG16_Dropout_fineTuning/model.h5\n",
            "84/84 [==============================] - 21s 251ms/step - loss: 7.6392e-05 - accuracy: 1.0000 - val_loss: 3.9955 - val_accuracy: 0.9650\n",
            "Epoch 4/30\n",
            "84/84 [==============================] - ETA: 0s - loss: 0.0089 - accuracy: 0.9996\n",
            "Epoch 4: val_loss did not improve from 3.99550\n",
            "84/84 [==============================] - 21s 247ms/step - loss: 0.0089 - accuracy: 0.9996 - val_loss: 4.8569 - val_accuracy: 0.9618\n",
            "Epoch 5/30\n",
            "84/84 [==============================] - ETA: 0s - loss: 0.0331 - accuracy: 0.9993\n",
            "Epoch 5: val_loss did not improve from 3.99550\n",
            "84/84 [==============================] - 21s 246ms/step - loss: 0.0331 - accuracy: 0.9993 - val_loss: 4.6438 - val_accuracy: 0.9618\n",
            "Epoch 6/30\n",
            "84/84 [==============================] - ETA: 0s - loss: 0.0000e+00 - accuracy: 1.0000\n",
            "Epoch 6: val_loss did not improve from 3.99550\n",
            "84/84 [==============================] - 21s 248ms/step - loss: 0.0000e+00 - accuracy: 1.0000 - val_loss: 4.6438 - val_accuracy: 0.9618\n",
            "Epoch 7/30\n",
            "84/84 [==============================] - ETA: 0s - loss: 0.0000e+00 - accuracy: 1.0000\n",
            "Epoch 7: val_loss did not improve from 3.99550\n",
            "84/84 [==============================] - 21s 244ms/step - loss: 0.0000e+00 - accuracy: 1.0000 - val_loss: 4.6438 - val_accuracy: 0.9618\n",
            "Epoch 8/30\n",
            "84/84 [==============================] - ETA: 0s - loss: 0.0000e+00 - accuracy: 1.0000\n",
            "Epoch 8: val_loss did not improve from 3.99550\n",
            "84/84 [==============================] - 21s 250ms/step - loss: 0.0000e+00 - accuracy: 1.0000 - val_loss: 4.6438 - val_accuracy: 0.9618\n"
          ]
        }
      ]
    },
    {
      "cell_type": "code",
      "source": [
        "\n",
        "acc = history.history['accuracy']\n",
        "val_acc = history.history['val_accuracy']\n",
        "loss = history.history['loss']\n",
        "val_loss = history.history['val_loss']\n",
        "best_loss_epoch = np.argmin(val_loss)\n",
        "best_loss = np.min(val_loss)\n",
        "best_acc = val_acc[best_loss_epoch]\n",
        "\n",
        "epochs = range(len(acc))\n",
        "\n",
        "plt.plot(epochs, acc, 'b.', label='Training accuracy')\n",
        "plt.plot(epochs, val_acc, 'g.', label='Validation accuracy')\n",
        "plt.legend(loc='upper right')\n",
        "\n",
        "plt.figure()\n",
        "\n",
        "plt.plot(epochs, loss, 'b', label='Training loss')\n",
        "plt.plot(epochs, val_loss, 'g', label='Validation loss')\n",
        "plt.plot(best_loss_epoch, best_loss, 'ro', label='Selected model')\n",
        "plt.legend(loc='upper right')\n",
        "\n",
        "plt.show()\n",
        "print(f\"Lowest validation loss has been reached at epoch {best_loss_epoch:d} with validation accuracy of {best_acc:.3f}\")\n"
      ],
      "metadata": {
        "id": "SSIIbILS6SgV",
        "colab": {
          "base_uri": "https://localhost:8080/",
          "height": 530
        },
        "outputId": "3e153359-991c-4d98-cb92-f0cea6b5b063"
      },
      "execution_count": null,
      "outputs": [
        {
          "output_type": "display_data",
          "data": {
            "text/plain": [
              "<Figure size 432x288 with 1 Axes>"
            ],
            "image/png": "[encoded data removed]"
          },
          "metadata": {
            "needs_background": "light"
          }
        },
        {
          "output_type": "display_data",
          "data": {
            "text/plain": [
              "<Figure size 432x288 with 1 Axes>"
            ],
            "image/png": "[encoded data removed]"
          },
          "metadata": {
            "needs_background": "light"
          }
        },
        {
          "output_type": "stream",
          "name": "stdout",
          "text": [
            "Lowest validation loss has been reached at epoch 2 with validation accuracy of 0.965\n"
          ]
        }
      ]
    },
    {
      "cell_type": "code",
      "source": [
        "with open(os.path.join(DIR_NAME, 'CNN_VGG16_Dropout_fineTuning/history'), 'wb') as file_pi:\n",
        "        pickle.dump(history.history, file_pi)"
      ],
      "metadata": {
        "id": "2Bh_4TQC6r0z"
      },
      "execution_count": null,
      "outputs": []
    },
    {
      "cell_type": "markdown",
      "source": [
        "# Unlock from the fourth layer to the fifth layer of VGG16 network.\n",
        "Trying to achieve even better results, we unfrozen from the fourth layer of the conv-base"
      ],
      "metadata": {
        "id": "JHz9biIx67zx"
      }
    },
    {
      "cell_type": "code",
      "source": [
        "model2 = models.load_model('/content/model/CNN_pretrained/CNN_VGG16_standard/model.h5')"
      ],
      "metadata": {
        "id": "0a1zy_4B6uIv"
      },
      "execution_count": null,
      "outputs": []
    },
    {
      "cell_type": "code",
      "source": [
        "for layer in model2.get_layer('vgg16').layers:\n",
        "  print(layer.name)\n",
        "  print(layer.trainable)\n",
        "\n",
        "print('\\n-------------\\n')\n",
        "\n",
        "model2.get_layer('vgg16').trainable = True\n",
        "\n",
        "set_trainable = False\n",
        "for layer in model2.get_layer('vgg16').layers:\n",
        "\n",
        "    if layer.name == 'block4_conv1':\n",
        "        set_trainable = True\n",
        "    if set_trainable:\n",
        "        layer.trainable = True\n",
        "    else:\n",
        "        layer.trainable = False\n",
        "\n",
        "for layer in conv_base.layers:\n",
        "  print(layer.name)\n",
        "  print(layer.trainable)"
      ],
      "metadata": {
        "id": "g7KXVsQZ7DJv",
        "colab": {
          "base_uri": "https://localhost:8080/"
        },
        "outputId": "cfc11405-fd67-4f29-8fd0-7bd9587d9531"
      },
      "execution_count": null,
      "outputs": [
        {
          "output_type": "stream",
          "name": "stdout",
          "text": [
            "input_3\n",
            "True\n",
            "block1_conv1\n",
            "False\n",
            "block1_conv2\n",
            "False\n",
            "block1_pool\n",
            "False\n",
            "block2_conv1\n",
            "False\n",
            "block2_conv2\n",
            "False\n",
            "block2_pool\n",
            "False\n",
            "block3_conv1\n",
            "False\n",
            "block3_conv2\n",
            "False\n",
            "block3_conv3\n",
            "False\n",
            "block3_pool\n",
            "False\n",
            "block4_conv1\n",
            "False\n",
            "block4_conv2\n",
            "False\n",
            "block4_conv3\n",
            "False\n",
            "block4_pool\n",
            "False\n",
            "block5_conv1\n",
            "False\n",
            "block5_conv2\n",
            "False\n",
            "block5_conv3\n",
            "False\n",
            "block5_pool\n",
            "False\n",
            "\n",
            "-------------\n",
            "\n",
            "input_3\n",
            "False\n",
            "block1_conv1\n",
            "False\n",
            "block1_conv2\n",
            "False\n",
            "block1_pool\n",
            "False\n",
            "block2_conv1\n",
            "False\n",
            "block2_conv2\n",
            "False\n",
            "block2_pool\n",
            "False\n",
            "block3_conv1\n",
            "False\n",
            "block3_conv2\n",
            "False\n",
            "block3_conv3\n",
            "False\n",
            "block3_pool\n",
            "False\n",
            "block4_conv1\n",
            "False\n",
            "block4_conv2\n",
            "False\n",
            "block4_conv3\n",
            "False\n",
            "block4_pool\n",
            "False\n",
            "block5_conv1\n",
            "False\n",
            "block5_conv2\n",
            "False\n",
            "block5_conv3\n",
            "False\n",
            "block5_pool\n",
            "False\n"
          ]
        }
      ]
    },
    {
      "cell_type": "code",
      "source": [
        "conv_base.summary()"
      ],
      "metadata": {
        "id": "WjA96HpB7MiR",
        "colab": {
          "base_uri": "https://localhost:8080/"
        },
        "outputId": "b324e5b9-f198-4779-deab-2be8c83cb443"
      },
      "execution_count": null,
      "outputs": [
        {
          "output_type": "stream",
          "name": "stdout",
          "text": [
            "Model: \"vgg16\"\n",
            "_________________________________________________________________\n",
            " Layer (type)                Output Shape              Param #   \n",
            "=================================================================\n",
            " input_3 (InputLayer)        [(None, 300, 200, 3)]     0         \n",
            "                                                                 \n",
            " block1_conv1 (Conv2D)       (None, 300, 200, 64)      1792      \n",
            "                                                                 \n",
            " block1_conv2 (Conv2D)       (None, 300, 200, 64)      36928     \n",
            "                                                                 \n",
            " block1_pool (MaxPooling2D)  (None, 150, 100, 64)      0         \n",
            "                                                                 \n",
            " block2_conv1 (Conv2D)       (None, 150, 100, 128)     73856     \n",
            "                                                                 \n",
            " block2_conv2 (Conv2D)       (None, 150, 100, 128)     147584    \n",
            "                                                                 \n",
            " block2_pool (MaxPooling2D)  (None, 75, 50, 128)       0         \n",
            "                                                                 \n",
            " block3_conv1 (Conv2D)       (None, 75, 50, 256)       295168    \n",
            "                                                                 \n",
            " block3_conv2 (Conv2D)       (None, 75, 50, 256)       590080    \n",
            "                                                                 \n",
            " block3_conv3 (Conv2D)       (None, 75, 50, 256)       590080    \n",
            "                                                                 \n",
            " block3_pool (MaxPooling2D)  (None, 37, 25, 256)       0         \n",
            "                                                                 \n",
            " block4_conv1 (Conv2D)       (None, 37, 25, 512)       1180160   \n",
            "                                                                 \n",
            " block4_conv2 (Conv2D)       (None, 37, 25, 512)       2359808   \n",
            "                                                                 \n",
            " block4_conv3 (Conv2D)       (None, 37, 25, 512)       2359808   \n",
            "                                                                 \n",
            " block4_pool (MaxPooling2D)  (None, 18, 12, 512)       0         \n",
            "                                                                 \n",
            " block5_conv1 (Conv2D)       (None, 18, 12, 512)       2359808   \n",
            "                                                                 \n",
            " block5_conv2 (Conv2D)       (None, 18, 12, 512)       2359808   \n",
            "                                                                 \n",
            " block5_conv3 (Conv2D)       (None, 18, 12, 512)       2359808   \n",
            "                                                                 \n",
            " block5_pool (MaxPooling2D)  (None, 9, 6, 512)         0         \n",
            "                                                                 \n",
            "=================================================================\n",
            "Total params: 14,714,688\n",
            "Trainable params: 0\n",
            "Non-trainable params: 14,714,688\n",
            "_________________________________________________________________\n"
          ]
        }
      ]
    },
    {
      "cell_type": "code",
      "source": [
        "model2.compile(loss=\"categorical_crossentropy\",\n",
        "              optimizer=keras.optimizers.RMSprop(learning_rate=1e-5),\n",
        "              metrics=[\"accuracy\"])"
      ],
      "metadata": {
        "id": "_Tyax-bC7O1x"
      },
      "execution_count": null,
      "outputs": []
    },
    {
      "cell_type": "code",
      "source": [
        "model2.summary()"
      ],
      "metadata": {
        "id": "QCokUNzg7Q1L",
        "colab": {
          "base_uri": "https://localhost:8080/"
        },
        "outputId": "31b92fdc-1847-404a-de70-030f04b1d758"
      },
      "execution_count": null,
      "outputs": [
        {
          "output_type": "stream",
          "name": "stdout",
          "text": [
            "Model: \"model_3\"\n",
            "_________________________________________________________________\n",
            " Layer (type)                Output Shape              Param #   \n",
            "=================================================================\n",
            " input_7 (InputLayer)        [(None, 300, 200, 3)]     0         \n",
            "                                                                 \n",
            " tf.__operators__.getitem_3   (None, 300, 200, 3)      0         \n",
            " (SlicingOpLambda)                                               \n",
            "                                                                 \n",
            " tf.nn.bias_add_3 (TFOpLambd  (None, 300, 200, 3)      0         \n",
            " a)                                                              \n",
            "                                                                 \n",
            " vgg16 (Functional)          (None, 9, 6, 512)         14714688  \n",
            "                                                                 \n",
            " flatten_3 (Flatten)         (None, 27648)             0         \n",
            "                                                                 \n",
            " dense_8 (Dense)             (None, 128)               3539072   \n",
            "                                                                 \n",
            " dense_9 (Dense)             (None, 3)                 387       \n",
            "                                                                 \n",
            "=================================================================\n",
            "Total params: 18,254,147\n",
            "Trainable params: 16,518,659\n",
            "Non-trainable params: 1,735,488\n",
            "_________________________________________________________________\n"
          ]
        }
      ]
    },
    {
      "cell_type": "code",
      "source": [
        "save_path = DIR_NAME + '/CNN_VGG16_Dropout_fineTuning2/model.h5'\n",
        "\n",
        "callbacks_list = [\n",
        "    keras.callbacks.ModelCheckpoint(\n",
        "        filepath=save_path,\n",
        "        monitor=\"val_loss\",\n",
        "        verbose=1,\n",
        "        save_best_only=True),\n",
        "        stop_early\n",
        "]"
      ],
      "metadata": {
        "id": "7PCNzb5q7ScH"
      },
      "execution_count": null,
      "outputs": []
    },
    {
      "cell_type": "markdown",
      "source": [
        "**Train the model after unfreezing the top two layers of the conv base**"
      ],
      "metadata": {
        "id": "URbN2cytXnbp"
      }
    },
    {
      "cell_type": "code",
      "source": [
        "\n",
        "history = model2.fit(\n",
        "    training_images,\n",
        "    epochs=30,\n",
        "    validation_data = val_images,\n",
        "    callbacks=callbacks_list)\n"
      ],
      "metadata": {
        "id": "ae1Dz0bR7bqR",
        "colab": {
          "base_uri": "https://localhost:8080/"
        },
        "outputId": "7579c912-dd07-4782-aa95-c86440e3e9ba"
      },
      "execution_count": null,
      "outputs": [
        {
          "output_type": "stream",
          "name": "stdout",
          "text": [
            "Epoch 1/30\n",
            "84/84 [==============================] - ETA: 0s - loss: 0.5270 - accuracy: 0.9925\n",
            "Epoch 1: val_loss improved from inf to 8.66834, saving model to /content/model/CNN_pretrained/CNN_VGG16_Dropout_fineTuning2/model.h5\n",
            "84/84 [==============================] - 29s 321ms/step - loss: 0.5270 - accuracy: 0.9925 - val_loss: 8.6683 - val_accuracy: 0.9363\n",
            "Epoch 2/30\n",
            "84/84 [==============================] - ETA: 0s - loss: 0.2520 - accuracy: 0.9929\n",
            "Epoch 2: val_loss improved from 8.66834 to 3.66639, saving model to /content/model/CNN_pretrained/CNN_VGG16_Dropout_fineTuning2/model.h5\n",
            "84/84 [==============================] - 26s 312ms/step - loss: 0.2520 - accuracy: 0.9929 - val_loss: 3.6664 - val_accuracy: 0.9618\n",
            "Epoch 3/30\n",
            "84/84 [==============================] - ETA: 0s - loss: 3.9169e-05 - accuracy: 1.0000\n",
            "Epoch 3: val_loss improved from 3.66639 to 2.45946, saving model to /content/model/CNN_pretrained/CNN_VGG16_Dropout_fineTuning2/model.h5\n",
            "84/84 [==============================] - 27s 311ms/step - loss: 3.9169e-05 - accuracy: 1.0000 - val_loss: 2.4595 - val_accuracy: 0.9809\n",
            "Epoch 4/30\n",
            "84/84 [==============================] - ETA: 0s - loss: 0.3129 - accuracy: 0.9959\n",
            "Epoch 4: val_loss did not improve from 2.45946\n",
            "84/84 [==============================] - 26s 310ms/step - loss: 0.3129 - accuracy: 0.9959 - val_loss: 4.8856 - val_accuracy: 0.9586\n",
            "Epoch 5/30\n",
            "84/84 [==============================] - ETA: 0s - loss: 0.3397 - accuracy: 0.9948\n",
            "Epoch 5: val_loss did not improve from 2.45946\n",
            "84/84 [==============================] - 27s 313ms/step - loss: 0.3397 - accuracy: 0.9948 - val_loss: 3.0023 - val_accuracy: 0.9618\n",
            "Epoch 6/30\n",
            "84/84 [==============================] - ETA: 0s - loss: 0.1712 - accuracy: 0.9970\n",
            "Epoch 6: val_loss did not improve from 2.45946\n",
            "84/84 [==============================] - 26s 309ms/step - loss: 0.1712 - accuracy: 0.9970 - val_loss: 3.2682 - val_accuracy: 0.9713\n",
            "Epoch 7/30\n",
            "84/84 [==============================] - ETA: 0s - loss: 1.3098e-05 - accuracy: 1.0000\n",
            "Epoch 7: val_loss did not improve from 2.45946\n",
            "84/84 [==============================] - 26s 311ms/step - loss: 1.3098e-05 - accuracy: 1.0000 - val_loss: 3.8223 - val_accuracy: 0.9682\n",
            "Epoch 8/30\n",
            "84/84 [==============================] - ETA: 0s - loss: 0.0000e+00 - accuracy: 1.0000\n",
            "Epoch 8: val_loss did not improve from 2.45946\n",
            "84/84 [==============================] - 26s 311ms/step - loss: 0.0000e+00 - accuracy: 1.0000 - val_loss: 3.8222 - val_accuracy: 0.9682\n"
          ]
        }
      ]
    },
    {
      "cell_type": "code",
      "source": [
        "acc = history.history['accuracy']\n",
        "val_acc = history.history['val_accuracy']\n",
        "loss = history.history['loss']\n",
        "val_loss = history.history['val_loss']\n",
        "best_loss_epoch = np.argmin(val_loss)\n",
        "best_loss = np.min(val_loss)\n",
        "best_acc = val_acc[best_loss_epoch]\n",
        "\n",
        "epochs = range(len(acc))\n",
        "\n",
        "plt.plot(epochs, acc, 'b.', label='Training accuracy')\n",
        "plt.plot(epochs, val_acc, 'g.', label='Validation accuracy')\n",
        "plt.legend(loc='upper right')\n",
        "\n",
        "plt.figure()\n",
        "\n",
        "plt.plot(epochs, loss, 'b', label='Training loss')\n",
        "plt.plot(epochs, val_loss, 'g', label='Validation loss')\n",
        "plt.plot(best_loss_epoch, best_loss, 'ro', label='Selected model')\n",
        "plt.legend(loc='upper right')\n",
        "\n",
        "plt.show()\n",
        "print(f\"Lowest validation loss has been reached at epoch {best_loss_epoch:d} with validation accuracy of {best_acc:.3f}\")\n"
      ],
      "metadata": {
        "id": "0ar5BydA7hs1",
        "colab": {
          "base_uri": "https://localhost:8080/",
          "height": 530
        },
        "outputId": "fccebe8b-39b3-4803-a2b9-37dbfe93ba2e"
      },
      "execution_count": null,
      "outputs": [
        {
          "output_type": "display_data",
          "data": {
            "text/plain": [
              "<Figure size 432x288 with 1 Axes>"
            ],
            "image/png": "[encoded data removed]"
          },
          "metadata": {
            "needs_background": "light"
          }
        },
        {
          "output_type": "display_data",
          "data": {
            "text/plain": [
              "<Figure size 432x288 with 1 Axes>"
            ],
            "image/png": "[encoded data removed]"
          },
          "metadata": {
            "needs_background": "light"
          }
        },
        {
          "output_type": "stream",
          "name": "stdout",
          "text": [
            "Lowest validation loss has been reached at epoch 2 with validation accuracy of 0.981\n"
          ]
        }
      ]
    },
    {
      "cell_type": "code",
      "source": [
        "with open(os.path.join(DIR_NAME, 'CNN_VGG16_Dropout_fineTuning2/history'), 'wb') as file_pi:\n",
        "        pickle.dump(history.history, file_pi)"
      ],
      "metadata": {
        "id": "LMB0M7a67j3k"
      },
      "execution_count": null,
      "outputs": []
    },
    {
      "cell_type": "code",
      "source": [
        "!zip -r \"Shareddrives/industrial/modelli/VGG16Test2.zip\" \"/content/model\""
      ],
      "metadata": {
        "id": "IZjYL8a67_ka",
        "colab": {
          "base_uri": "https://localhost:8080/"
        },
        "outputId": "0a6da399-f436-4a82-f2dc-1206623684f7"
      },
      "execution_count": null,
      "outputs": [
        {
          "output_type": "stream",
          "name": "stdout",
          "text": [
            "  adding: content/model/ (stored 0%)\n",
            "  adding: content/model/CNN_pretrained/ (stored 0%)\n",
            "  adding: content/model/CNN_pretrained/CNN_VGG16_standard/ (stored 0%)\n",
            "  adding: content/model/CNN_pretrained/CNN_VGG16_standard/.ipynb_checkpoints/ (stored 0%)\n",
            "  adding: content/model/CNN_pretrained/CNN_VGG16_standard/model.h5 (deflated 7%)\n",
            "  adding: content/model/CNN_pretrained/CNN_VGG16_standard/history (deflated 50%)\n",
            "  adding: content/model/CNN_pretrained/.ipynb_checkpoints/ (stored 0%)\n",
            "  adding: content/model/CNN_pretrained/CNN_VGG16_Dropout_fineTuning/ (stored 0%)\n",
            "  adding: content/model/CNN_pretrained/CNN_VGG16_Dropout_fineTuning/model.h5 (deflated 9%)\n",
            "  adding: content/model/CNN_pretrained/CNN_VGG16_Dropout_fineTuning/history (deflated 50%)\n",
            "  adding: content/model/CNN_pretrained/CNN_VGG16_Dropout_fineTuning2/ (stored 0%)\n",
            "  adding: content/model/CNN_pretrained/CNN_VGG16_Dropout_fineTuning2/model.h5 (deflated 8%)\n",
            "  adding: content/model/CNN_pretrained/CNN_VGG16_Dropout_fineTuning2/history (deflated 42%)\n"
          ]
        }
      ]
    }
  ]
}