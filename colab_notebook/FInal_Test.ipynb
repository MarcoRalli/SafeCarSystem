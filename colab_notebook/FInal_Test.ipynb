{
  "nbformat": 4,
  "nbformat_minor": 0,
  "metadata": {
    "colab": {
      "provenance": []
    },
    "kernelspec": {
      "name": "python3",
      "display_name": "Python 3"
    },
    "language_info": {
      "name": "python"
    },
    "gpuClass": "standard",
    "accelerator": "GPU"
  },
  "cells": [
    {
      "cell_type": "markdown",
      "source": [
        "# Nuova sezione\n",
        "**FINAL RESULTS**\n",
        "\n",
        "This notebook checks for metrics and confusion matrices calculate over the test set created by hand.\n",
        "All the model will be displayed"
      ],
      "metadata": {
        "id": "21YEIqjfYv8X"
      }
    },
    {
      "cell_type": "code",
      "execution_count": null,
      "metadata": {
        "id": "5GAIEdQ0Etd-"
      },
      "outputs": [],
      "source": [
        "from google.colab import drive\n",
        "import os\n",
        "import shutil\n",
        "import numpy as np\n",
        "import random as rn\n",
        "import tensorflow as tf\n",
        "from tensorflow import keras\n",
        "from tensorflow.keras.utils import image_dataset_from_directory\n",
        "from tensorflow.keras import layers, models, optimizers\n",
        "from tensorflow.keras.models import Sequential\n",
        "from tensorflow.keras.applications import VGG16\n",
        "import matplotlib.pyplot as plt\n",
        "from sklearn import metrics\n",
        "from sklearn.metrics import f1_score"
      ]
    },
    {
      "cell_type": "code",
      "source": [
        "from google.colab import drive\n",
        "drive.mount('/gdrive')\n",
        "%cd /gdrive\n",
        "%ls"
      ],
      "metadata": {
        "colab": {
          "base_uri": "https://localhost:8080/"
        },
        "id": "9sStnh_dE7vb",
        "outputId": "d5d4d6d0-e982-4dff-8fa0-ac6c03b5833a"
      },
      "execution_count": null,
      "outputs": [
        {
          "output_type": "stream",
          "name": "stdout",
          "text": [
            "Mounted at /gdrive\n",
            "/gdrive\n",
            "\u001b[0m\u001b[01;34mMyDrive\u001b[0m/  \u001b[01;34mShareddrives\u001b[0m/\n"
          ]
        }
      ]
    },
    {
      "cell_type": "code",
      "source": [
        "!unzip -q \"Shareddrives/industrial/modelli/batch.zip\" -d \"/\""
      ],
      "metadata": {
        "id": "OpkyVaqINW5a"
      },
      "execution_count": null,
      "outputs": []
    },
    {
      "cell_type": "code",
      "source": [
        "!unzip -q \"Shareddrives/industrial/data/test_hand.zip\" -d \"/\""
      ],
      "metadata": {
        "id": "Cbv96vKdZdYu"
      },
      "execution_count": null,
      "outputs": []
    },
    {
      "cell_type": "code",
      "source": [
        "!unzip -q \"Shareddrives/industrial/modelli/VGG16Test2.zip\" -d \"/content\""
      ],
      "metadata": {
        "id": "TApExUCUE--E"
      },
      "execution_count": null,
      "outputs": []
    },
    {
      "cell_type": "code",
      "source": [
        "# Default values to load the dataset\n",
        "BATCH_SIZE = 32\n",
        "IMAGE_HEIGHT = 300\n",
        "IMAGE_WIDTH = 200\n",
        "RANDOM_SEED = 42\n",
        "TEST_HAND_PATH = \"/content/test_hand\"\n",
        "\n"
      ],
      "metadata": {
        "id": "GoPgaMhhGpeP"
      },
      "execution_count": null,
      "outputs": []
    },
    {
      "cell_type": "code",
      "source": [
        "test_images = tf.keras.preprocessing.image_dataset_from_directory(\n",
        "    TEST_HAND_PATH , labels='inferred', label_mode='categorical',\n",
        "    class_names=None, color_mode='rgb', batch_size=BATCH_SIZE, image_size=(IMAGE_HEIGHT,\n",
        "    IMAGE_WIDTH), shuffle=False,interpolation='bilinear', follow_links=False\n",
        ")\n"
      ],
      "metadata": {
        "colab": {
          "base_uri": "https://localhost:8080/"
        },
        "id": "J6RClKNUGkGx",
        "outputId": "d1fdb83a-e5dc-477c-d2aa-01063bdb6340"
      },
      "execution_count": null,
      "outputs": [
        {
          "output_type": "stream",
          "name": "stdout",
          "text": [
            "Found 404 files belonging to 3 classes.\n"
          ]
        }
      ]
    },
    {
      "cell_type": "code",
      "source": [
        "def confusion_matrix (model):\n",
        " \n",
        "  y_score = model.predict(test_images)\n",
        "  y_pred = y_score.argmax(axis=1)\n",
        "  y_true = tf.concat([labels_batch for data_batch, labels_batch in test_images], axis = 0)\n",
        "  rounded_labels=np.argmax(y_true, axis=1)\n",
        "  \n",
        "  print(\"Classification report: \")\n",
        "  print(metrics.classification_report(rounded_labels,y_pred,digits = 4))\n",
        "  metrics.ConfusionMatrixDisplay.from_predictions(rounded_labels, y_pred)"
      ],
      "metadata": {
        "id": "uf8AVUYgFeR3"
      },
      "execution_count": null,
      "outputs": []
    },
    {
      "cell_type": "markdown",
      "source": [
        "# Nuova sezione\n",
        "**MODEL LOADING**"
      ],
      "metadata": {
        "id": "KUt9FhaNZHXX"
      }
    },
    {
      "cell_type": "code",
      "source": [
        "vgg_Fine_Dropout1 = models.load_model('/content/model/CNN_pretrained/CNN_VGG16_Dropout_fineTuning/model.h5')\n",
        "vgg_Fine_Dropout2 = models.load_model('/content/model/CNN_pretrained/CNN_VGG16_Dropout_fineTuning2/model.h5')\n",
        "vgg_Extraction = models.load_model('/content/model/CNN_pretrained/CNN_VGG16_standard/model.h5')"
      ],
      "metadata": {
        "id": "DztNJlEF3pNP"
      },
      "execution_count": null,
      "outputs": []
    },
    {
      "cell_type": "code",
      "source": [
        "confusion_matrix(vgg_Fine_Dropout1)"
      ],
      "metadata": {
        "colab": {
          "base_uri": "https://localhost:8080/",
          "height": 487
        },
        "id": "eF19KNrxeLpI",
        "outputId": "474cbea8-5897-4241-c6a6-c98759edd30f"
      },
      "execution_count": null,
      "outputs": [
        {
          "output_type": "stream",
          "name": "stdout",
          "text": [
            "8/8 [==============================] - 12s 386ms/step\n",
            "Classification report: \n",
            "              precision    recall  f1-score   support\n",
            "\n",
            "           0     0.8923    0.7160    0.7945        81\n",
            "           1     0.6944    1.0000    0.8197        75\n",
            "           2     0.9857    0.7931    0.8790        87\n",
            "\n",
            "    accuracy                         0.8313       243\n",
            "   macro avg     0.8575    0.8364    0.8311       243\n",
            "weighted avg     0.8647    0.8313    0.8325       243\n",
            "\n"
          ]
        },
        {
          "output_type": "display_data",
          "data": {
            "text/plain": [
              "<Figure size 432x288 with 2 Axes>"
            ],
            "image/png": "[encoded data removed]"
          },
          "metadata": {
            "needs_background": "light"
          }
        }
      ]
    },
    {
      "cell_type": "code",
      "source": [
        "confusion_matrix(vgg_Fine_Dropout2)"
      ],
      "metadata": {
        "colab": {
          "base_uri": "https://localhost:8080/",
          "height": 487
        },
        "id": "YTWoCpfneKX5",
        "outputId": "860b78cd-9e22-4ca5-95e0-8d72a082a4d0"
      },
      "execution_count": null,
      "outputs": [
        {
          "output_type": "stream",
          "name": "stdout",
          "text": [
            "8/8 [==============================] - 1s 154ms/step\n",
            "Classification report: \n",
            "              precision    recall  f1-score   support\n",
            "\n",
            "           0     0.9254    0.7654    0.8378        81\n",
            "           1     0.8049    0.8800    0.8408        75\n",
            "           2     0.8723    0.9425    0.9061        87\n",
            "\n",
            "    accuracy                         0.8642       243\n",
            "   macro avg     0.8675    0.8627    0.8616       243\n",
            "weighted avg     0.8692    0.8642    0.8632       243\n",
            "\n"
          ]
        },
        {
          "output_type": "display_data",
          "data": {
            "text/plain": [
              "<Figure size 432x288 with 2 Axes>"
            ],
            "image/png": "[encoded data removed]"
          },
          "metadata": {
            "needs_background": "light"
          }
        }
      ]
    },
    {
      "cell_type": "code",
      "source": [
        "confusion_matrix(vgg_Extraction)"
      ],
      "metadata": {
        "colab": {
          "base_uri": "https://localhost:8080/",
          "height": 491
        },
        "id": "DRWJie6sN0jo",
        "outputId": "fefc72b2-d852-4939-933a-f2e8fca9a92d"
      },
      "execution_count": null,
      "outputs": [
        {
          "output_type": "stream",
          "name": "stdout",
          "text": [
            "8/8 [==============================] - 1s 146ms/step\n",
            "Classification report: \n",
            "              precision    recall  f1-score   support\n",
            "\n",
            "           0     0.9118    0.7654    0.8322        81\n",
            "           1     0.8072    0.8933    0.8481        75\n",
            "           2     0.8696    0.9195    0.8939        87\n",
            "\n",
            "    accuracy                         0.8601       243\n",
            "   macro avg     0.8629    0.8594    0.8581       243\n",
            "weighted avg     0.8644    0.8601    0.8592       243\n",
            "\n"
          ]
        },
        {
          "output_type": "display_data",
          "data": {
            "text/plain": [
              "<Figure size 432x288 with 2 Axes>"
            ],
            "image/png": "[encoded data removed]"
          },
          "metadata": {
            "needs_background": "light"
          }
        }
      ]
    }
  ]
}